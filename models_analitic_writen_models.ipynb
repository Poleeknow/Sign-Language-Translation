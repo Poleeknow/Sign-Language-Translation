{
 "cells": [
  {
   "cell_type": "code",
   "execution_count": 1,
   "metadata": {},
   "outputs": [],
   "source": [
    "import pandas as pd\n",
    "from torch.utils.data import Dataset, DataLoader\n",
    "import torch\n",
    "from torch.nn.utils.rnn import pad_sequence\n",
    "from tqdm import tqdm\n",
    "import torch.nn as nn\n",
    "import torch.optim as optim\n",
    "import numpy as np\n",
    "import torch.nn.functional as F\n",
    "import matplotlib.pyplot as plt\n",
    "import torch"
   ]
  },
  {
   "cell_type": "markdown",
   "metadata": {},
   "source": [
    "### Annotaions"
   ]
  },
  {
   "cell_type": "code",
   "execution_count": 2,
   "metadata": {},
   "outputs": [],
   "source": [
    "# Load the annotations\n",
    "annotations_train_path = 'data/processed_annotations_train.csv'\n",
    "annotations_train = pd.read_csv(annotations_train_path)\n",
    "\n",
    "annotations_val_path = 'data/processed_annotations_valid.csv'\n",
    "annotations_val = pd.read_csv(annotations_val_path)"
   ]
  },
  {
   "cell_type": "code",
   "execution_count": 3,
   "metadata": {},
   "outputs": [
    {
     "name": "stdout",
     "output_type": "stream",
     "text": [
      "                                       attachment_id text  \\\n",
      "0  data/tensors\\train_9ede40ec-0c67-4a57-8337-003...    Н   \n",
      "1  data/tensors\\train_8fb4e5c9-a7df-4bad-b7d7-9d8...    Н   \n",
      "2  data/tensors\\train_d228da91-495a-4d6d-833a-64b...    Н   \n",
      "3  data/tensors\\train_397a486d-967f-444b-afd8-de1...    Н   \n",
      "4  data/tensors\\train_e1200d57-9b53-4ffa-ab7d-e3e...    Н   \n",
      "\n",
      "                            user_id  height  width  length  train  \n",
      "0  185bd3a81d9d618518d10abebf0d17a8    1920   1080    95.0   True  \n",
      "1  46dd04a1caa75ed3082b573cb5a3ad26    1920   1080    37.0   True  \n",
      "2  db573f94204e56e0cf3fc2ea000e5bdc    1280    720    45.0   True  \n",
      "3  0211b488644476dd0fec656ccb9b74fc    1920   1080    52.0   True  \n",
      "4  b07a773bcb10b4f14f33d2b0e8ec58ba     720   1280    69.0   True  \n"
     ]
    }
   ],
   "source": [
    "print(annotations_train.head())"
   ]
  },
  {
   "cell_type": "code",
   "execution_count": 4,
   "metadata": {},
   "outputs": [
    {
     "name": "stdout",
     "output_type": "stream",
     "text": [
      "                                       attachment_id text  \\\n",
      "0  data/tensors\\valid_d1131f18-57d2-412f-8261-aca...    Н   \n",
      "1  data/tensors\\valid_016df4ed-6e78-40a1-974f-e5d...    Н   \n",
      "2  data/tensors\\valid_45557bda-2f3a-4882-a430-9cf...    Н   \n",
      "3  data/tensors\\valid_ab6ef8b7-1971-4218-ad0f-bfe...    Н   \n",
      "4  data/tensors\\valid_49d3d3c3-7288-4a05-96bf-76d...    Н   \n",
      "\n",
      "                            user_id  height  width  length  train  \n",
      "0  0ab4f8e463cdded2e59d6001f4e1b487    1080   1920    42.0  False  \n",
      "1  1860c7f3605089bf0eff0c4e72c7add4    1440   1440    41.0  False  \n",
      "2  7c989fdb633be7453228f7c650097205    1920   1080    30.0  False  \n",
      "3  ba230d5b794c9a7350356eddd3e9929c    1920    960    41.0  False  \n",
      "4  3dd2ce2659aada17b976390004ebe322    1920    886    39.0  False  \n"
     ]
    }
   ],
   "source": [
    "print(annotations_val.head())"
   ]
  },
  {
   "cell_type": "markdown",
   "metadata": {},
   "source": [
    "### Definition of custom dateset class with padding"
   ]
  },
  {
   "cell_type": "code",
   "execution_count": 5,
   "metadata": {},
   "outputs": [],
   "source": [
    "class PaddedSignLanguageDataset(Dataset):\n",
    "    def __init__(self, annotations, transform=None, max_length=None):\n",
    "        \"\"\"\n",
    "        Custom dataset for loading sign language video tensors with padding.\n",
    "        Each video tensor is padded to a uniform length for consistent processing.\n",
    "\n",
    "        :param annotations (DataFrame): DataFrame containing the annotations.\n",
    "        :param transform (callable, optional): Optional transform to be applied on a sample.\n",
    "        :param max_length (int, optional): Maximum length of the video tensors. If not provided, it will be calculated.\n",
    "        \"\"\"\n",
    "        self.annotations = annotations\n",
    "        self.transform = transform\n",
    "        self.max_length = 132\n",
    "\n",
    "        if self.max_length is None:\n",
    "            # Calculate the maximum length among all tensors\n",
    "            self.max_length = max(len(torch.load(row['attachment_id'], map_location=torch.device('cpu'))) for _, row in annotations.iterrows())\n",
    "\n",
    "    def __len__(self):\n",
    "        \"\"\"\n",
    "        Returns the number of samples in the dataset.\n",
    "        \"\"\"\n",
    "        return len(self.annotations)\n",
    "\n",
    "    def __getitem__(self, idx):\n",
    "        \"\"\"\n",
    "        Returns the sample at the given index.\n",
    "\n",
    "        :param idx (int): Index\n",
    "        :return: Tuple of (video tensor, label)\n",
    "        \"\"\"\n",
    "        tensor_path = self.annotations.iloc[idx]['attachment_id']\n",
    "        label = self.annotations.iloc[idx]['text']\n",
    "        \n",
    "        # Load the tensor\n",
    "        tensor = torch.load(tensor_path, map_location=torch.device('cpu'))\n",
    "        \n",
    "        # Debugging: Print tensor information\n",
    "        # if isinstance(tensor, list):\n",
    "        #     print(f\"Tensor at Index {idx} is a list with length {len(tensor)}\")\n",
    "        #     if tensor:\n",
    "        #         if tensor[0] is None or len(tensor[0]) == 0:\n",
    "        #             print(f\"Malformed tensor found at index {idx}.\")\n",
    "        #             return None, label\n",
    "        #     else:\n",
    "        #         print(\"Empty list.\")\n",
    "        # else:\n",
    "        #     print(f\"Tensor at Index {idx}: {tensor}\")\n",
    "        #     print(f\"Tensor Shape: {tensor.shape if tensor else 'Empty Tensor'}\")\n",
    "        # print(f\"Label: {label}\")\n",
    "\n",
    "        # Check if the tensor is empty or None\n",
    "        if tensor is None or len(tensor) == 0:\n",
    "            print(f\"Empty tensor found at index {idx}.\")\n",
    "            return None, label\n",
    "\n",
    "\n",
    "        # Pad the tensor to the maximum length\n",
    "        padded_tensor = torch.zeros((self.max_length, *tensor[0].shape))\n",
    "        padded_tensor[:len(tensor)] = torch.stack(tensor)\n",
    "                \n",
    "        # Apply transform if any\n",
    "        if self.transform:\n",
    "            padded_tensor = self.transform(padded_tensor)\n",
    "\n",
    "        return padded_tensor, label"
   ]
  },
  {
   "cell_type": "code",
   "execution_count": 6,
   "metadata": {},
   "outputs": [],
   "source": [
    "# Create the padded dataset and dataloader\n",
    "padded_dataset_train = PaddedSignLanguageDataset(annotations_train)\n",
    "padded_dataloader_train = DataLoader(padded_dataset_train, batch_size=4, shuffle=True)\n",
    "\n",
    "padded_dataset_val = PaddedSignLanguageDataset(annotations_val)\n",
    "padded_dataloader_val = DataLoader(padded_dataset_val, batch_size=4, shuffle=True)"
   ]
  },
  {
   "cell_type": "code",
   "execution_count": 7,
   "metadata": {},
   "outputs": [
    {
     "name": "stdout",
     "output_type": "stream",
     "text": [
      "Sample tensor shape: torch.Size([4, 132, 3, 64, 64])\n",
      "Sample label: ('Н', 'цветовой оттенок', 'вероятно', 'продлевать')\n"
     ]
    }
   ],
   "source": [
    "# Display a sample from the padded dataset\n",
    "for tensor, label in padded_dataloader_train:\n",
    "    print(\"Sample tensor shape:\", tensor.shape)\n",
    "    print(\"Sample label:\", label)\n",
    "    break  # Display only the first batch"
   ]
  },
  {
   "cell_type": "markdown",
   "metadata": {},
   "source": []
  },
  {
   "cell_type": "markdown",
   "metadata": {},
   "source": [
    "### Models definition"
   ]
  },
  {
   "cell_type": "code",
   "execution_count": 8,
   "metadata": {},
   "outputs": [],
   "source": [
    "class Simple3DConvNet(nn.Module):\n",
    "    def __init__(self, num_classes):\n",
    "        \"\"\"\n",
    "        A simple 3D Convolutional Neural Network for video classification.\n",
    "        Consists of two convolutional layers followed by two fully connected layers.\n",
    "\n",
    "        :param num_classes (int): Number of classes for classification.\n",
    "        \"\"\"\n",
    "        super(Simple3DConvNet, self).__init__()\n",
    "        self.conv1 = nn.Conv3d(in_channels=3, out_channels=16, kernel_size=3, padding=1)\n",
    "        self.pool = nn.MaxPool3d(kernel_size=2, stride=2)\n",
    "        self.conv2 = nn.Conv3d(in_channels=16, out_channels=32, kernel_size=3, padding=1)\n",
    "        self.fc1 = nn.Linear(270336, 512)\n",
    "        self.fc2 = nn.Linear(512, num_classes)\n",
    "        self.relu = nn.ReLU()\n",
    "\n",
    "    def forward(self, x):\n",
    "        \"\"\"\n",
    "        Forward pass of the network.\n",
    "\n",
    "        :param x (Tensor): Input tensor of shape (batch_size, 3, max_length, 112, 112)\n",
    "        :return: Output tensor of shape (batch_size, num_classes)\n",
    "        \"\"\"\n",
    "        # print(x.shape)\n",
    "        x = self.pool(self.relu(self.conv1(x)))\n",
    "        x = self.pool(self.relu(self.conv2(x)))\n",
    "        # print(x.shape)\n",
    "        x = torch.flatten(x, 1)\n",
    "        x = self.relu(self.fc1(x))\n",
    "        x = self.fc2(x)\n",
    "        return x"
   ]
  },
  {
   "cell_type": "code",
   "execution_count": 9,
   "metadata": {},
   "outputs": [],
   "source": [
    "class TwoStream3DConvNet(nn.Module):\n",
    "    def __init__(self, num_classes):\n",
    "        super(TwoStream3DConvNet, self).__init__()\n",
    "        \"\"\"\n",
    "        A two-stream 3D Convolutional Neural Network for video classification.\n",
    "        This network processes spatial and temporal information separately and then combines them.\n",
    "\n",
    "        :param num_classes (int): Number of classes for classification.\n",
    "        \"\"\"\n",
    "        # Spatial Stream\n",
    "        self.spatial_stream = nn.Sequential(\n",
    "            nn.Conv3d(in_channels=3, out_channels=16, kernel_size=3, padding=1),\n",
    "            nn.ReLU(),\n",
    "            nn.MaxPool3d(kernel_size=2, stride=2),\n",
    "            nn.Conv3d(in_channels=16, out_channels=32, kernel_size=3, padding=1),\n",
    "            nn.ReLU(),\n",
    "            nn.MaxPool3d(kernel_size=2, stride=2)\n",
    "        )\n",
    "        \n",
    "        # Temporal Stream\n",
    "        self.temporal_stream = nn.Sequential(\n",
    "            nn.Conv3d(in_channels=3, out_channels=16, kernel_size=3, padding=1),\n",
    "            nn.ReLU(),\n",
    "            nn.MaxPool3d(kernel_size=2, stride=2),\n",
    "            nn.Conv3d(in_channels=16, out_channels=32, kernel_size=3, padding=1),\n",
    "            nn.ReLU(),\n",
    "            nn.MaxPool3d(kernel_size=2, stride=2)\n",
    "        )\n",
    "        \n",
    "        # Fully Connected Layers\n",
    "        self.fc1 = nn.Linear(540672, 512)\n",
    "        self.fc2 = nn.Linear(512, num_classes)\n",
    "        self.relu = nn.ReLU()\n",
    "\n",
    "    def forward(self, x):\n",
    "        \"\"\"\n",
    "        Forward pass of the network.\n",
    "\n",
    "        :param x (Tensor): Input tensor of shape (batch_size, 3, max_length, 112, 112)\n",
    "        :return: Output tensor of shape (batch_size, num_classes)\n",
    "        \"\"\"\n",
    "        spatial_out = self.spatial_stream(x)\n",
    "        temporal_out = self.temporal_stream(x)\n",
    "        \n",
    "        # Concatenate the outputs of the two streams\n",
    "        combined = torch.cat((spatial_out, temporal_out), dim=1)\n",
    "        \n",
    "        combined = torch.flatten(combined, 1)\n",
    "        combined = self.relu(self.fc1(combined))\n",
    "        combined = self.fc2(combined)\n",
    "        return combined"
   ]
  },
  {
   "cell_type": "code",
   "execution_count": 10,
   "metadata": {},
   "outputs": [],
   "source": [
    "class ResNet3D(nn.Module):\n",
    "    def __init__(self, num_classes):\n",
    "        \"\"\"\n",
    "        A 3D version of the ResNet architecture for video classification.\n",
    "        This network utilizes residual connections for deep feature learning.\n",
    "\n",
    "        :param num_classes (int): Number of classes for classification.\n",
    "        \"\"\"\n",
    "        super(ResNet3D, self).__init__()\n",
    "        self.conv1 = nn.Conv3d(in_channels=3, out_channels=64, kernel_size=(3, 7, 7), stride=(1, 2, 2), padding=(1, 3, 3))\n",
    "        self.relu = nn.ReLU()\n",
    "        self.maxpool = nn.MaxPool3d(kernel_size=(1, 3, 3), stride=(1, 2, 2), padding=(0, 1, 1))\n",
    "        \n",
    "        # Residual Layers\n",
    "        self.residual_layers = nn.Sequential(\n",
    "            nn.Conv3d(in_channels=64, out_channels=64, kernel_size=3, stride=1, padding=1),\n",
    "            nn.ReLU(),\n",
    "            nn.Conv3d(in_channels=64, out_channels=64, kernel_size=3, stride=1, padding=1)\n",
    "        )\n",
    "        \n",
    "        self.fc = nn.Linear(2162688, num_classes)\n",
    "\n",
    "    def forward(self, x):\n",
    "        \"\"\"\n",
    "        Defines the forward pass of the 3D ResNet.\n",
    "\n",
    "        :param x: Input tensor representing a batch of video sequences.\n",
    "        :return: Output tensor with classification scores.\n",
    "        \"\"\"\n",
    "        x = self.relu(self.conv1(x))\n",
    "        x = self.maxpool(x)\n",
    "        \n",
    "        # Residual Layers\n",
    "        residual = x\n",
    "        x = self.residual_layers(x)\n",
    "        x += residual\n",
    "        \n",
    "        # print(x.shape)\n",
    "\n",
    "        x = torch.flatten(x, 1)\n",
    "        x = self.fc(x)\n",
    "        return x"
   ]
  },
  {
   "cell_type": "code",
   "execution_count": 11,
   "metadata": {},
   "outputs": [],
   "source": [
    "num_classes = len(set(annotations_train['text']))\n",
    "\n",
    "models = {\n",
    "    'simple_3d_conv_net': Simple3DConvNet(num_classes),\n",
    "    'two_stream_3d_conv_net': TwoStream3DConvNet(num_classes),\n",
    "    'resnet3d': ResNet3D(num_classes)\n",
    "}"
   ]
  },
  {
   "cell_type": "markdown",
   "metadata": {},
   "source": [
    "### Labels Mapping"
   ]
  },
  {
   "cell_type": "code",
   "execution_count": 12,
   "metadata": {},
   "outputs": [
    {
     "name": "stdout",
     "output_type": "stream",
     "text": [
      "Label Mapping: {'Н': 0, 'вероятно': 1, 'значить': 2, 'обычный': 3, 'овца': 4, 'продлевать': 5, 'суматоха': 6, 'такой': 7, 'цветовой оттенок': 8, 'черный': 9}\n"
     ]
    }
   ],
   "source": [
    "# Initialize an empty set to collect unique labels\n",
    "unique_labels_train = set()\n",
    "\n",
    "# Iterate over your dataset to collect unique labels\n",
    "for _, label_data in padded_dataloader_train:\n",
    "    unique_labels_train.update(label_data)\n",
    "\n",
    "# Sort the labels for consistency\n",
    "sorted_labels = sorted(unique_labels_train)\n",
    "\n",
    "# Create the label mapping\n",
    "train_label_mapping = {label: idx for idx, label in enumerate(sorted_labels)}\n",
    "\n",
    "# Print the label mapping\n",
    "print(\"Label Mapping:\", train_label_mapping)"
   ]
  },
  {
   "cell_type": "code",
   "execution_count": 13,
   "metadata": {},
   "outputs": [
    {
     "name": "stdout",
     "output_type": "stream",
     "text": [
      "Label Mapping: {'Н': 0, 'вероятно': 1, 'значить': 2, 'обычный': 3, 'овца': 4, 'продлевать': 5, 'суматоха': 6, 'такой': 7, 'цветовой оттенок': 8, 'черный': 9}\n"
     ]
    }
   ],
   "source": [
    "# Initialize an empty set to collect unique labels\n",
    "unique_labels_test = set()\n",
    "\n",
    "# Iterate over your dataset to collect unique labels\n",
    "for _, label_data in padded_dataloader_val:\n",
    "    unique_labels_test.update(label_data)\n",
    "\n",
    "# Sort the labels for consistency\n",
    "sorted_labels = sorted(unique_labels_test)\n",
    "\n",
    "# Create the label mapping\n",
    "val_label_mapping = {label: idx for idx, label in enumerate(sorted_labels)}\n",
    "\n",
    "# Print the label mapping\n",
    "print(\"Label Mapping:\", val_label_mapping)"
   ]
  },
  {
   "cell_type": "markdown",
   "metadata": {},
   "source": [
    "### Train and Validation loops"
   ]
  },
  {
   "cell_type": "code",
   "execution_count": 14,
   "metadata": {},
   "outputs": [
    {
     "name": "stdout",
     "output_type": "stream",
     "text": [
      "Training simple_3d_conv_net\n"
     ]
    },
    {
     "name": "stderr",
     "output_type": "stream",
     "text": [
      "Epoch 1/5 - Training: 100%|██████████| 38/38 [01:10<00:00,  1.84s/it, accuracy=0.193, loss=88.8]\n",
      "Epoch 1/5 - Validation: 100%|██████████| 13/13 [00:03<00:00,  3.69it/s, accuracy=0.24, loss=2.28]\n",
      "Epoch 2/5 - Training: 100%|██████████| 38/38 [01:07<00:00,  1.78s/it, accuracy=0.4, loss=1.92]  \n",
      "Epoch 2/5 - Validation: 100%|██████████| 13/13 [00:03<00:00,  3.51it/s, accuracy=0.18, loss=2.42] \n",
      "Epoch 3/5 - Training: 100%|██████████| 38/38 [01:05<00:00,  1.72s/it, accuracy=0.42, loss=1.52] \n",
      "Epoch 3/5 - Validation: 100%|██████████| 13/13 [00:03<00:00,  3.64it/s, accuracy=0.26, loss=2.56]\n",
      "Epoch 4/5 - Training: 100%|██████████| 38/38 [01:05<00:00,  1.73s/it, accuracy=0.56, loss=1.2]  \n",
      "Epoch 4/5 - Validation: 100%|██████████| 13/13 [00:03<00:00,  3.99it/s, accuracy=0.24, loss=2.88]\n",
      "Epoch 5/5 - Training: 100%|██████████| 38/38 [01:03<00:00,  1.68s/it, accuracy=0.673, loss=0.91] \n",
      "Epoch 5/5 - Validation: 100%|██████████| 13/13 [00:03<00:00,  3.91it/s, accuracy=0.18, loss=3.23] \n"
     ]
    },
    {
     "name": "stdout",
     "output_type": "stream",
     "text": [
      "Training two_stream_3d_conv_net\n"
     ]
    },
    {
     "name": "stderr",
     "output_type": "stream",
     "text": [
      "Epoch 1/5 - Training: 100%|██████████| 38/38 [02:13<00:00,  3.52s/it, accuracy=0.18, loss=427]     \n",
      "Epoch 1/5 - Validation: 100%|██████████| 13/13 [00:06<00:00,  2.12it/s, accuracy=0.22, loss=2.32] \n",
      "Epoch 2/5 - Training: 100%|██████████| 38/38 [01:59<00:00,  3.14s/it, accuracy=0.493, loss=1.68]\n",
      "Epoch 2/5 - Validation: 100%|██████████| 13/13 [00:05<00:00,  2.31it/s, accuracy=0.3, loss=2.44]  \n",
      "Epoch 3/5 - Training: 100%|██████████| 38/38 [01:59<00:00,  3.14s/it, accuracy=0.56, loss=1.16] \n",
      "Epoch 3/5 - Validation: 100%|██████████| 13/13 [00:05<00:00,  2.26it/s, accuracy=0.32, loss=2.58] \n",
      "Epoch 4/5 - Training: 100%|██████████| 38/38 [01:58<00:00,  3.13s/it, accuracy=0.78, loss=0.695] \n",
      "Epoch 4/5 - Validation: 100%|██████████| 13/13 [00:05<00:00,  2.29it/s, accuracy=0.26, loss=3.26] \n",
      "Epoch 5/5 - Training: 100%|██████████| 38/38 [02:03<00:00,  3.26s/it, accuracy=0.853, loss=0.455]\n",
      "Epoch 5/5 - Validation: 100%|██████████| 13/13 [00:05<00:00,  2.19it/s, accuracy=0.28, loss=3.6]  \n"
     ]
    },
    {
     "name": "stdout",
     "output_type": "stream",
     "text": [
      "Training resnet3d\n"
     ]
    },
    {
     "name": "stderr",
     "output_type": "stream",
     "text": [
      "Epoch 1/5 - Training: 100%|██████████| 38/38 [01:33<00:00,  2.46s/it, accuracy=0.187, loss=1.38e+3]\n",
      "Epoch 1/5 - Validation: 100%|██████████| 13/13 [00:06<00:00,  1.89it/s, accuracy=0.18, loss=24.1] \n",
      "Epoch 2/5 - Training: 100%|██████████| 38/38 [01:21<00:00,  2.13s/it, accuracy=0.48, loss=7.52] \n",
      "Epoch 2/5 - Validation: 100%|██████████| 13/13 [00:06<00:00,  1.88it/s, accuracy=0.2, loss=12]    \n",
      "Epoch 3/5 - Training: 100%|██████████| 38/38 [01:23<00:00,  2.20s/it, accuracy=0.66, loss=1.84] \n",
      "Epoch 3/5 - Validation: 100%|██████████| 13/13 [00:07<00:00,  1.69it/s, accuracy=0.22, loss=10.7] \n",
      "Epoch 4/5 - Training: 100%|██████████| 38/38 [01:23<00:00,  2.18s/it, accuracy=0.727, loss=1.05] \n",
      "Epoch 4/5 - Validation: 100%|██████████| 13/13 [00:07<00:00,  1.69it/s, accuracy=0.3, loss=9.69]  \n",
      "Epoch 5/5 - Training: 100%|██████████| 38/38 [01:08<00:00,  1.81s/it, accuracy=0.807, loss=0.643]\n",
      "Epoch 5/5 - Validation: 100%|██████████| 13/13 [00:07<00:00,  1.83it/s, accuracy=0.22, loss=9.86] "
     ]
    },
    {
     "name": "stdout",
     "output_type": "stream",
     "text": [
      "Finished Training\n"
     ]
    },
    {
     "name": "stderr",
     "output_type": "stream",
     "text": [
      "\n"
     ]
    }
   ],
   "source": [
    "# Loss function\n",
    "criterion = nn.CrossEntropyLoss()\n",
    "\n",
    "num_epochs = 5\n",
    "results = {}\n",
    "\n",
    "# Train the models\n",
    "# Training and Validation\n",
    "for model_name, model in models.items():\n",
    "    print(f\"Training {model_name}\")\n",
    "\n",
    "    # Loss function and optimizer\n",
    "    optimizer = optim.Adam(model.parameters(), lr=0.001)\n",
    "\n",
    "    # List to store epoch-wise validation accuracies for the current model\n",
    "    epoch_val_accuracies = []\n",
    "\n",
    "    for epoch in range(num_epochs):\n",
    "        running_loss = 0.0\n",
    "        correct_predictions = 0\n",
    "        total_predictions = 0\n",
    "\n",
    "        # Training Phase\n",
    "        model.train()\n",
    "        loop = tqdm(enumerate(padded_dataloader_train, 0), total=len(padded_dataloader_train), desc=f\"Epoch {epoch+1}/{num_epochs} - Training\")\n",
    "        for i, data in loop:\n",
    "            inputs, label_data = data\n",
    "            labels = torch.tensor([train_label_mapping[label] for label in label_data], dtype=torch.long)\n",
    "            inputs = inputs.permute(0, 2, 1, 3, 4)\n",
    "\n",
    "            optimizer.zero_grad()\n",
    "\n",
    "            outputs = model(inputs)\n",
    "\n",
    "            loss = criterion(outputs, labels)\n",
    "            loss.backward()\n",
    "\n",
    "            optimizer.step()\n",
    "\n",
    "            running_loss += loss.item()\n",
    "            _, predicted = torch.max(outputs.data, 1)\n",
    "            total_predictions += labels.size(0)\n",
    "            correct_predictions += (predicted == labels).sum().item()\n",
    "\n",
    "            # Update progress bar\n",
    "            loop.set_description(f\"Epoch {epoch+1}/{num_epochs} - Training\")\n",
    "            loop.set_postfix(loss = running_loss / (i+1), accuracy = correct_predictions / total_predictions)\n",
    "\n",
    "        # Validation Phase\n",
    "        model.eval()\n",
    "        val_running_loss = 0.0\n",
    "        val_correct_predictions = 0\n",
    "        val_total_predictions = 0\n",
    "        loop_val = tqdm(enumerate(padded_dataloader_val, 0), total=len(padded_dataloader_val), desc=f\"Epoch {epoch+1}/{num_epochs} - Validation\")\n",
    "        for i, data in loop_val:\n",
    "            inputs, label_data = data\n",
    "\n",
    "            if len(inputs) == 0 or len(label_data) == 0:\n",
    "                continue\n",
    "\n",
    "            labels = torch.tensor([val_label_mapping.get(label) for label in label_data], dtype=torch.long)\n",
    "            inputs = inputs.permute(0, 2, 1, 3, 4)\n",
    "            outputs = model(inputs)\n",
    "            loss = criterion(outputs, labels)\n",
    "            val_running_loss += loss.item()\n",
    "            _, predicted = torch.max(outputs.data, 1)\n",
    "            val_total_predictions += labels.size(0)\n",
    "            val_correct_predictions += (predicted == labels).sum().item()\n",
    "\n",
    "            # Update progress bar\n",
    "            loop_val.set_description(f\"Epoch {epoch+1}/{num_epochs} - Validation\")\n",
    "            loop_val.set_postfix(loss = val_running_loss / (i+1), accuracy = val_correct_predictions / val_total_predictions)\n",
    "\n",
    "        val_accuracy = val_correct_predictions / val_total_predictions\n",
    "        epoch_val_accuracies.append(val_accuracy)\n",
    "\n",
    "    # Store the epoch-wise validation accuracies for this model\n",
    "    results[model_name] = epoch_val_accuracies\n",
    "\n",
    "print('Finished Training')\n"
   ]
  },
  {
   "cell_type": "markdown",
   "metadata": {},
   "source": [
    "### Plotting"
   ]
  },
  {
   "cell_type": "code",
   "execution_count": 24,
   "metadata": {},
   "outputs": [
    {
     "data": {
      "image/png": "[encoded data removed]",
      "text/plain": [
       "<Figure size 1200x600 with 1 Axes>"
      ]
     },
     "metadata": {},
     "output_type": "display_data"
    }
   ],
   "source": [
    "# Assuming results is a dictionary with model names as keys and lists of accuracies as values\n",
    "model_names = list(results.keys())\n",
    "num_epochs = range(1, len(next(iter(results.values()))) + 1)\n",
    "\n",
    "plt.figure(figsize=(12, 6))\n",
    "\n",
    "# Iterate over each model and plot a line graph of its accuracies\n",
    "for model_name in model_names:\n",
    "    plt.plot(num_epochs, results[model_name], label=model_name, marker='o')\n",
    "\n",
    "plt.xlabel('Epoch')\n",
    "plt.ylabel('Validation Accuracy')\n",
    "plt.title('Model Accuracies Over Epochs')\n",
    "plt.xticks(num_epochs)\n",
    "plt.xlim(1, len(num_epochs))\n",
    "plt.ylim(0, 1)\n",
    "plt.grid(True)\n",
    "plt.legend()\n",
    "plt.show()"
   ]
  },
  {
   "cell_type": "code",
   "execution_count": 25,
   "metadata": {},
   "outputs": [],
   "source": [
    "from scipy.stats import ttest_rel\n",
    "\n",
    "def perform_ttest(accuracies_model_1, accuracies_model_2):\n",
    "    \"\"\"\n",
    "    Perform a paired t-test on two sets of model accuracies.\n",
    "\n",
    "    :param accuracies_model_1: Accuracies from the first model.\n",
    "    :param accuracies_model_2: Accuracies from the second model.\n",
    "    :return: t-statistic and p-value of the t-test.\n",
    "    \"\"\"\n",
    "    t_stat, p_value = ttest_rel(accuracies_model_1, accuracies_model_2)\n",
    "    return t_stat, p_value"
   ]
  },
  {
   "cell_type": "code",
   "execution_count": 26,
   "metadata": {},
   "outputs": [
    {
     "name": "stdout",
     "output_type": "stream",
     "text": [
      "No significant difference between simple_3d_conv_net and two_stream_3d_conv_net (p=0.094).\n",
      "No significant difference between simple_3d_conv_net and resnet3d (p=0.871).\n",
      "No significant difference between two_stream_3d_conv_net and resnet3d (p=0.114).\n"
     ]
    }
   ],
   "source": [
    "# Statistical Test\n",
    "for i in range(len(model_names)):\n",
    "    for j in range(i+1, len(model_names)):\n",
    "        model_1_name = model_names[i]\n",
    "        model_2_name = model_names[j]\n",
    "        \n",
    "        accuracies_model_1 = results[model_1_name]\n",
    "        accuracies_model_2 = results[model_2_name]\n",
    "        \n",
    "        t_stat, p_value = ttest_rel(np.array(accuracies_model_1), np.array(accuracies_model_2))\n",
    "        \n",
    "        if p_value < 0.05:\n",
    "            print(f\"{model_1_name} and {model_2_name} are significantly different (p={p_value:.3f}).\")\n",
    "        else:\n",
    "            print(f\"No significant difference between {model_1_name} and {model_2_name} (p={p_value:.3f}).\")"
   ]
  }
 ],
 "metadata": {
  "kernelspec": {
   "display_name": "torch-cuda",
   "language": "python",
   "name": "python3"
  },
  "language_info": {
   "codemirror_mode": {
    "name": "ipython",
    "version": 3
   },
   "file_extension": ".py",
   "mimetype": "text/x-python",
   "name": "python",
   "nbconvert_exporter": "python",
   "pygments_lexer": "ipython3",
   "version": "3.10.12"
  }
 },
 "nbformat": 4,
 "nbformat_minor": 2
}
