{
 "cells": [
  {
   "cell_type": "code",
   "execution_count": 1,
   "metadata": {},
   "outputs": [],
   "source": [
    "# %pip install -r requirements.txt"
   ]
  },
  {
   "cell_type": "code",
   "execution_count": 2,
   "metadata": {},
   "outputs": [],
   "source": [
    "# %pip install transformers"
   ]
  },
  {
   "cell_type": "code",
   "execution_count": 3,
   "metadata": {},
   "outputs": [
    {
     "name": "stderr",
     "output_type": "stream",
     "text": [
      "d:\\miniconda3\\envs\\torch-cuda-2\\lib\\site-packages\\tqdm\\auto.py:21: TqdmWarning: IProgress not found. Please update jupyter and ipywidgets. See https://ipywidgets.readthedocs.io/en/stable/user_install.html\n",
      "  from .autonotebook import tqdm as notebook_tqdm\n"
     ]
    }
   ],
   "source": [
    "import pandas as pd\n",
    "from torch.utils.data import Dataset, DataLoader\n",
    "import torch\n",
    "from torch.nn.utils.rnn import pad_sequence\n",
    "from tqdm import tqdm\n",
    "import torch.nn as nn\n",
    "import torch.optim as optim\n",
    "import numpy as np\n",
    "import torch.nn.functional as F\n",
    "import matplotlib.pyplot as plt\n",
    "import torch\n",
    "from torchvision import transforms\n",
    "from collections import Counter\n",
    "import os"
   ]
  },
  {
   "cell_type": "markdown",
   "metadata": {},
   "source": [
    "### Annotaions"
   ]
  },
  {
   "cell_type": "code",
   "execution_count": 4,
   "metadata": {},
   "outputs": [],
   "source": [
    "# Load the annotations\n",
    "annotations_train_path = 'data/processed_annotations_train.csv'\n",
    "annotations_train = pd.read_csv(annotations_train_path)\n",
    "\n",
    "annotations_val_path = 'data/processed_annotations_valid.csv'\n",
    "annotations_val = pd.read_csv(annotations_val_path)"
   ]
  },
  {
   "cell_type": "code",
   "execution_count": 5,
   "metadata": {},
   "outputs": [
    {
     "name": "stdout",
     "output_type": "stream",
     "text": [
      "                                       attachment_id text  \\\n",
      "0  data/tensors\\train_9ede40ec-0c67-4a57-8337-003...    Н   \n",
      "1  data/tensors\\train_8fb4e5c9-a7df-4bad-b7d7-9d8...    Н   \n",
      "2  data/tensors\\train_d228da91-495a-4d6d-833a-64b...    Н   \n",
      "3  data/tensors\\train_397a486d-967f-444b-afd8-de1...    Н   \n",
      "4  data/tensors\\train_e1200d57-9b53-4ffa-ab7d-e3e...    Н   \n",
      "\n",
      "                            user_id  height  width  length  train  \n",
      "0  185bd3a81d9d618518d10abebf0d17a8    1920   1080    95.0   True  \n",
      "1  46dd04a1caa75ed3082b573cb5a3ad26    1920   1080    37.0   True  \n",
      "2  db573f94204e56e0cf3fc2ea000e5bdc    1280    720    45.0   True  \n",
      "3  0211b488644476dd0fec656ccb9b74fc    1920   1080    52.0   True  \n",
      "4  b07a773bcb10b4f14f33d2b0e8ec58ba     720   1280    69.0   True  \n"
     ]
    }
   ],
   "source": [
    "print(annotations_train.head())"
   ]
  },
  {
   "cell_type": "code",
   "execution_count": 6,
   "metadata": {},
   "outputs": [
    {
     "name": "stdout",
     "output_type": "stream",
     "text": [
      "                                       attachment_id text  \\\n",
      "0  data/tensors\\valid_d1131f18-57d2-412f-8261-aca...    Н   \n",
      "1  data/tensors\\valid_016df4ed-6e78-40a1-974f-e5d...    Н   \n",
      "2  data/tensors\\valid_45557bda-2f3a-4882-a430-9cf...    Н   \n",
      "3  data/tensors\\valid_ab6ef8b7-1971-4218-ad0f-bfe...    Н   \n",
      "4  data/tensors\\valid_49d3d3c3-7288-4a05-96bf-76d...    Н   \n",
      "\n",
      "                            user_id  height  width  length  train  \n",
      "0  0ab4f8e463cdded2e59d6001f4e1b487    1080   1920    42.0  False  \n",
      "1  1860c7f3605089bf0eff0c4e72c7add4    1440   1440    41.0  False  \n",
      "2  7c989fdb633be7453228f7c650097205    1920   1080    30.0  False  \n",
      "3  ba230d5b794c9a7350356eddd3e9929c    1920    960    41.0  False  \n",
      "4  3dd2ce2659aada17b976390004ebe322    1920    886    39.0  False  \n"
     ]
    }
   ],
   "source": [
    "print(annotations_val.head())"
   ]
  },
  {
   "cell_type": "markdown",
   "metadata": {},
   "source": [
    "### Pretrained models"
   ]
  },
  {
   "cell_type": "code",
   "execution_count": 7,
   "metadata": {},
   "outputs": [],
   "source": [
    "# # Load Swin Transformer and MViTv2 models as generic models\n",
    "swin_transformer_model = torch.jit.load('models/swin16-3.pt')\n",
    "mvitv2_model = torch.jit.load('models/mvit16-4.pt')"
   ]
  },
  {
   "cell_type": "code",
   "execution_count": 8,
   "metadata": {},
   "outputs": [
    {
     "data": {
      "text/plain": [
       "RecursiveScriptModule(\n",
       "  original_name=Recognizer3D\n",
       "  (data_preprocessor): RecursiveScriptModule(original_name=ActionDataPreprocessor)\n",
       "  (backbone): RecursiveScriptModule(\n",
       "    original_name=MViT\n",
       "    (patch_embed): RecursiveScriptModule(\n",
       "      original_name=PatchEmbed3D\n",
       "      (projection): RecursiveScriptModule(original_name=Conv3d)\n",
       "    )\n",
       "    (blocks): RecursiveScriptModule(\n",
       "      original_name=ModuleList\n",
       "      (0): RecursiveScriptModule(\n",
       "        original_name=MultiScaleBlock\n",
       "        (norm1): RecursiveScriptModule(original_name=LayerNorm)\n",
       "        (attn): RecursiveScriptModule(\n",
       "          original_name=MultiScaleAttention\n",
       "          (qkv): RecursiveScriptModule(original_name=Linear)\n",
       "          (proj): RecursiveScriptModule(original_name=Linear)\n",
       "          (pool_q): RecursiveScriptModule(original_name=Conv3d)\n",
       "          (norm_q): RecursiveScriptModule(original_name=LayerNorm)\n",
       "          (pool_k): RecursiveScriptModule(original_name=Conv3d)\n",
       "          (norm_k): RecursiveScriptModule(original_name=LayerNorm)\n",
       "          (pool_v): RecursiveScriptModule(original_name=Conv3d)\n",
       "          (norm_v): RecursiveScriptModule(original_name=LayerNorm)\n",
       "        )\n",
       "        (drop_path): RecursiveScriptModule(original_name=Identity)\n",
       "        (norm2): RecursiveScriptModule(original_name=LayerNorm)\n",
       "        (mlp): RecursiveScriptModule(\n",
       "          original_name=MLP\n",
       "          (fc1): RecursiveScriptModule(original_name=Linear)\n",
       "          (act): RecursiveScriptModule(original_name=GELU)\n",
       "          (fc2): RecursiveScriptModule(original_name=Linear)\n",
       "        )\n",
       "      )\n",
       "      (1): RecursiveScriptModule(\n",
       "        original_name=MultiScaleBlock\n",
       "        (norm1): RecursiveScriptModule(original_name=LayerNorm)\n",
       "        (attn): RecursiveScriptModule(\n",
       "          original_name=MultiScaleAttention\n",
       "          (qkv): RecursiveScriptModule(original_name=Linear)\n",
       "          (proj): RecursiveScriptModule(original_name=Linear)\n",
       "          (pool_q): RecursiveScriptModule(original_name=Conv3d)\n",
       "          (norm_q): RecursiveScriptModule(original_name=LayerNorm)\n",
       "          (pool_k): RecursiveScriptModule(original_name=Conv3d)\n",
       "          (norm_k): RecursiveScriptModule(original_name=LayerNorm)\n",
       "          (pool_v): RecursiveScriptModule(original_name=Conv3d)\n",
       "          (norm_v): RecursiveScriptModule(original_name=LayerNorm)\n",
       "        )\n",
       "        (drop_path): RecursiveScriptModule(original_name=DropPath)\n",
       "        (norm2): RecursiveScriptModule(original_name=LayerNorm)\n",
       "        (mlp): RecursiveScriptModule(\n",
       "          original_name=MLP\n",
       "          (fc1): RecursiveScriptModule(original_name=Linear)\n",
       "          (act): RecursiveScriptModule(original_name=GELU)\n",
       "          (fc2): RecursiveScriptModule(original_name=Linear)\n",
       "        )\n",
       "        (proj): RecursiveScriptModule(original_name=Linear)\n",
       "        (pool_skip): RecursiveScriptModule(original_name=MaxPool3d)\n",
       "      )\n",
       "      (2): RecursiveScriptModule(\n",
       "        original_name=MultiScaleBlock\n",
       "        (norm1): RecursiveScriptModule(original_name=LayerNorm)\n",
       "        (attn): RecursiveScriptModule(\n",
       "          original_name=MultiScaleAttention\n",
       "          (qkv): RecursiveScriptModule(original_name=Linear)\n",
       "          (proj): RecursiveScriptModule(original_name=Linear)\n",
       "          (pool_q): RecursiveScriptModule(original_name=Conv3d)\n",
       "          (norm_q): RecursiveScriptModule(original_name=LayerNorm)\n",
       "          (pool_k): RecursiveScriptModule(original_name=Conv3d)\n",
       "          (norm_k): RecursiveScriptModule(original_name=LayerNorm)\n",
       "          (pool_v): RecursiveScriptModule(original_name=Conv3d)\n",
       "          (norm_v): RecursiveScriptModule(original_name=LayerNorm)\n",
       "        )\n",
       "        (drop_path): RecursiveScriptModule(original_name=DropPath)\n",
       "        (norm2): RecursiveScriptModule(original_name=LayerNorm)\n",
       "        (mlp): RecursiveScriptModule(\n",
       "          original_name=MLP\n",
       "          (fc1): RecursiveScriptModule(original_name=Linear)\n",
       "          (act): RecursiveScriptModule(original_name=GELU)\n",
       "          (fc2): RecursiveScriptModule(original_name=Linear)\n",
       "        )\n",
       "      )\n",
       "      (3): RecursiveScriptModule(\n",
       "        original_name=MultiScaleBlock\n",
       "        (norm1): RecursiveScriptModule(original_name=LayerNorm)\n",
       "        (attn): RecursiveScriptModule(\n",
       "          original_name=MultiScaleAttention\n",
       "          (qkv): RecursiveScriptModule(original_name=Linear)\n",
       "          (proj): RecursiveScriptModule(original_name=Linear)\n",
       "          (pool_q): RecursiveScriptModule(original_name=Conv3d)\n",
       "          (norm_q): RecursiveScriptModule(original_name=LayerNorm)\n",
       "          (pool_k): RecursiveScriptModule(original_name=Conv3d)\n",
       "          (norm_k): RecursiveScriptModule(original_name=LayerNorm)\n",
       "          (pool_v): RecursiveScriptModule(original_name=Conv3d)\n",
       "          (norm_v): RecursiveScriptModule(original_name=LayerNorm)\n",
       "        )\n",
       "        (drop_path): RecursiveScriptModule(original_name=DropPath)\n",
       "        (norm2): RecursiveScriptModule(original_name=LayerNorm)\n",
       "        (mlp): RecursiveScriptModule(\n",
       "          original_name=MLP\n",
       "          (fc1): RecursiveScriptModule(original_name=Linear)\n",
       "          (act): RecursiveScriptModule(original_name=GELU)\n",
       "          (fc2): RecursiveScriptModule(original_name=Linear)\n",
       "        )\n",
       "        (proj): RecursiveScriptModule(original_name=Linear)\n",
       "        (pool_skip): RecursiveScriptModule(original_name=MaxPool3d)\n",
       "      )\n",
       "      (4): RecursiveScriptModule(\n",
       "        original_name=MultiScaleBlock\n",
       "        (norm1): RecursiveScriptModule(original_name=LayerNorm)\n",
       "        (attn): RecursiveScriptModule(\n",
       "          original_name=MultiScaleAttention\n",
       "          (qkv): RecursiveScriptModule(original_name=Linear)\n",
       "          (proj): RecursiveScriptModule(original_name=Linear)\n",
       "          (pool_q): RecursiveScriptModule(original_name=Conv3d)\n",
       "          (norm_q): RecursiveScriptModule(original_name=LayerNorm)\n",
       "          (pool_k): RecursiveScriptModule(original_name=Conv3d)\n",
       "          (norm_k): RecursiveScriptModule(original_name=LayerNorm)\n",
       "          (pool_v): RecursiveScriptModule(original_name=Conv3d)\n",
       "          (norm_v): RecursiveScriptModule(original_name=LayerNorm)\n",
       "        )\n",
       "        (drop_path): RecursiveScriptModule(original_name=DropPath)\n",
       "        (norm2): RecursiveScriptModule(original_name=LayerNorm)\n",
       "        (mlp): RecursiveScriptModule(\n",
       "          original_name=MLP\n",
       "          (fc1): RecursiveScriptModule(original_name=Linear)\n",
       "          (act): RecursiveScriptModule(original_name=GELU)\n",
       "          (fc2): RecursiveScriptModule(original_name=Linear)\n",
       "        )\n",
       "      )\n",
       "      (5): RecursiveScriptModule(\n",
       "        original_name=MultiScaleBlock\n",
       "        (norm1): RecursiveScriptModule(original_name=LayerNorm)\n",
       "        (attn): RecursiveScriptModule(\n",
       "          original_name=MultiScaleAttention\n",
       "          (qkv): RecursiveScriptModule(original_name=Linear)\n",
       "          (proj): RecursiveScriptModule(original_name=Linear)\n",
       "          (pool_q): RecursiveScriptModule(original_name=Conv3d)\n",
       "          (norm_q): RecursiveScriptModule(original_name=LayerNorm)\n",
       "          (pool_k): RecursiveScriptModule(original_name=Conv3d)\n",
       "          (norm_k): RecursiveScriptModule(original_name=LayerNorm)\n",
       "          (pool_v): RecursiveScriptModule(original_name=Conv3d)\n",
       "          (norm_v): RecursiveScriptModule(original_name=LayerNorm)\n",
       "        )\n",
       "        (drop_path): RecursiveScriptModule(original_name=DropPath)\n",
       "        (norm2): RecursiveScriptModule(original_name=LayerNorm)\n",
       "        (mlp): RecursiveScriptModule(\n",
       "          original_name=MLP\n",
       "          (fc1): RecursiveScriptModule(original_name=Linear)\n",
       "          (act): RecursiveScriptModule(original_name=GELU)\n",
       "          (fc2): RecursiveScriptModule(original_name=Linear)\n",
       "        )\n",
       "      )\n",
       "      (6): RecursiveScriptModule(\n",
       "        original_name=MultiScaleBlock\n",
       "        (norm1): RecursiveScriptModule(original_name=LayerNorm)\n",
       "        (attn): RecursiveScriptModule(\n",
       "          original_name=MultiScaleAttention\n",
       "          (qkv): RecursiveScriptModule(original_name=Linear)\n",
       "          (proj): RecursiveScriptModule(original_name=Linear)\n",
       "          (pool_q): RecursiveScriptModule(original_name=Conv3d)\n",
       "          (norm_q): RecursiveScriptModule(original_name=LayerNorm)\n",
       "          (pool_k): RecursiveScriptModule(original_name=Conv3d)\n",
       "          (norm_k): RecursiveScriptModule(original_name=LayerNorm)\n",
       "          (pool_v): RecursiveScriptModule(original_name=Conv3d)\n",
       "          (norm_v): RecursiveScriptModule(original_name=LayerNorm)\n",
       "        )\n",
       "        (drop_path): RecursiveScriptModule(original_name=DropPath)\n",
       "        (norm2): RecursiveScriptModule(original_name=LayerNorm)\n",
       "        (mlp): RecursiveScriptModule(\n",
       "          original_name=MLP\n",
       "          (fc1): RecursiveScriptModule(original_name=Linear)\n",
       "          (act): RecursiveScriptModule(original_name=GELU)\n",
       "          (fc2): RecursiveScriptModule(original_name=Linear)\n",
       "        )\n",
       "      )\n",
       "      (7): RecursiveScriptModule(\n",
       "        original_name=MultiScaleBlock\n",
       "        (norm1): RecursiveScriptModule(original_name=LayerNorm)\n",
       "        (attn): RecursiveScriptModule(\n",
       "          original_name=MultiScaleAttention\n",
       "          (qkv): RecursiveScriptModule(original_name=Linear)\n",
       "          (proj): RecursiveScriptModule(original_name=Linear)\n",
       "          (pool_q): RecursiveScriptModule(original_name=Conv3d)\n",
       "          (norm_q): RecursiveScriptModule(original_name=LayerNorm)\n",
       "          (pool_k): RecursiveScriptModule(original_name=Conv3d)\n",
       "          (norm_k): RecursiveScriptModule(original_name=LayerNorm)\n",
       "          (pool_v): RecursiveScriptModule(original_name=Conv3d)\n",
       "          (norm_v): RecursiveScriptModule(original_name=LayerNorm)\n",
       "        )\n",
       "        (drop_path): RecursiveScriptModule(original_name=DropPath)\n",
       "        (norm2): RecursiveScriptModule(original_name=LayerNorm)\n",
       "        (mlp): RecursiveScriptModule(\n",
       "          original_name=MLP\n",
       "          (fc1): RecursiveScriptModule(original_name=Linear)\n",
       "          (act): RecursiveScriptModule(original_name=GELU)\n",
       "          (fc2): RecursiveScriptModule(original_name=Linear)\n",
       "        )\n",
       "      )\n",
       "      (8): RecursiveScriptModule(\n",
       "        original_name=MultiScaleBlock\n",
       "        (norm1): RecursiveScriptModule(original_name=LayerNorm)\n",
       "        (attn): RecursiveScriptModule(\n",
       "          original_name=MultiScaleAttention\n",
       "          (qkv): RecursiveScriptModule(original_name=Linear)\n",
       "          (proj): RecursiveScriptModule(original_name=Linear)\n",
       "          (pool_q): RecursiveScriptModule(original_name=Conv3d)\n",
       "          (norm_q): RecursiveScriptModule(original_name=LayerNorm)\n",
       "          (pool_k): RecursiveScriptModule(original_name=Conv3d)\n",
       "          (norm_k): RecursiveScriptModule(original_name=LayerNorm)\n",
       "          (pool_v): RecursiveScriptModule(original_name=Conv3d)\n",
       "          (norm_v): RecursiveScriptModule(original_name=LayerNorm)\n",
       "        )\n",
       "        (drop_path): RecursiveScriptModule(original_name=DropPath)\n",
       "        (norm2): RecursiveScriptModule(original_name=LayerNorm)\n",
       "        (mlp): RecursiveScriptModule(\n",
       "          original_name=MLP\n",
       "          (fc1): RecursiveScriptModule(original_name=Linear)\n",
       "          (act): RecursiveScriptModule(original_name=GELU)\n",
       "          (fc2): RecursiveScriptModule(original_name=Linear)\n",
       "        )\n",
       "      )\n",
       "      (9): RecursiveScriptModule(\n",
       "        original_name=MultiScaleBlock\n",
       "        (norm1): RecursiveScriptModule(original_name=LayerNorm)\n",
       "        (attn): RecursiveScriptModule(\n",
       "          original_name=MultiScaleAttention\n",
       "          (qkv): RecursiveScriptModule(original_name=Linear)\n",
       "          (proj): RecursiveScriptModule(original_name=Linear)\n",
       "          (pool_q): RecursiveScriptModule(original_name=Conv3d)\n",
       "          (norm_q): RecursiveScriptModule(original_name=LayerNorm)\n",
       "          (pool_k): RecursiveScriptModule(original_name=Conv3d)\n",
       "          (norm_k): RecursiveScriptModule(original_name=LayerNorm)\n",
       "          (pool_v): RecursiveScriptModule(original_name=Conv3d)\n",
       "          (norm_v): RecursiveScriptModule(original_name=LayerNorm)\n",
       "        )\n",
       "        (drop_path): RecursiveScriptModule(original_name=DropPath)\n",
       "        (norm2): RecursiveScriptModule(original_name=LayerNorm)\n",
       "        (mlp): RecursiveScriptModule(\n",
       "          original_name=MLP\n",
       "          (fc1): RecursiveScriptModule(original_name=Linear)\n",
       "          (act): RecursiveScriptModule(original_name=GELU)\n",
       "          (fc2): RecursiveScriptModule(original_name=Linear)\n",
       "        )\n",
       "      )\n",
       "      (10): RecursiveScriptModule(\n",
       "        original_name=MultiScaleBlock\n",
       "        (norm1): RecursiveScriptModule(original_name=LayerNorm)\n",
       "        (attn): RecursiveScriptModule(\n",
       "          original_name=MultiScaleAttention\n",
       "          (qkv): RecursiveScriptModule(original_name=Linear)\n",
       "          (proj): RecursiveScriptModule(original_name=Linear)\n",
       "          (pool_q): RecursiveScriptModule(original_name=Conv3d)\n",
       "          (norm_q): RecursiveScriptModule(original_name=LayerNorm)\n",
       "          (pool_k): RecursiveScriptModule(original_name=Conv3d)\n",
       "          (norm_k): RecursiveScriptModule(original_name=LayerNorm)\n",
       "          (pool_v): RecursiveScriptModule(original_name=Conv3d)\n",
       "          (norm_v): RecursiveScriptModule(original_name=LayerNorm)\n",
       "        )\n",
       "        (drop_path): RecursiveScriptModule(original_name=DropPath)\n",
       "        (norm2): RecursiveScriptModule(original_name=LayerNorm)\n",
       "        (mlp): RecursiveScriptModule(\n",
       "          original_name=MLP\n",
       "          (fc1): RecursiveScriptModule(original_name=Linear)\n",
       "          (act): RecursiveScriptModule(original_name=GELU)\n",
       "          (fc2): RecursiveScriptModule(original_name=Linear)\n",
       "        )\n",
       "      )\n",
       "      (11): RecursiveScriptModule(\n",
       "        original_name=MultiScaleBlock\n",
       "        (norm1): RecursiveScriptModule(original_name=LayerNorm)\n",
       "        (attn): RecursiveScriptModule(\n",
       "          original_name=MultiScaleAttention\n",
       "          (qkv): RecursiveScriptModule(original_name=Linear)\n",
       "          (proj): RecursiveScriptModule(original_name=Linear)\n",
       "          (pool_q): RecursiveScriptModule(original_name=Conv3d)\n",
       "          (norm_q): RecursiveScriptModule(original_name=LayerNorm)\n",
       "          (pool_k): RecursiveScriptModule(original_name=Conv3d)\n",
       "          (norm_k): RecursiveScriptModule(original_name=LayerNorm)\n",
       "          (pool_v): RecursiveScriptModule(original_name=Conv3d)\n",
       "          (norm_v): RecursiveScriptModule(original_name=LayerNorm)\n",
       "        )\n",
       "        (drop_path): RecursiveScriptModule(original_name=DropPath)\n",
       "        (norm2): RecursiveScriptModule(original_name=LayerNorm)\n",
       "        (mlp): RecursiveScriptModule(\n",
       "          original_name=MLP\n",
       "          (fc1): RecursiveScriptModule(original_name=Linear)\n",
       "          (act): RecursiveScriptModule(original_name=GELU)\n",
       "          (fc2): RecursiveScriptModule(original_name=Linear)\n",
       "        )\n",
       "      )\n",
       "      (12): RecursiveScriptModule(\n",
       "        original_name=MultiScaleBlock\n",
       "        (norm1): RecursiveScriptModule(original_name=LayerNorm)\n",
       "        (attn): RecursiveScriptModule(\n",
       "          original_name=MultiScaleAttention\n",
       "          (qkv): RecursiveScriptModule(original_name=Linear)\n",
       "          (proj): RecursiveScriptModule(original_name=Linear)\n",
       "          (pool_q): RecursiveScriptModule(original_name=Conv3d)\n",
       "          (norm_q): RecursiveScriptModule(original_name=LayerNorm)\n",
       "          (pool_k): RecursiveScriptModule(original_name=Conv3d)\n",
       "          (norm_k): RecursiveScriptModule(original_name=LayerNorm)\n",
       "          (pool_v): RecursiveScriptModule(original_name=Conv3d)\n",
       "          (norm_v): RecursiveScriptModule(original_name=LayerNorm)\n",
       "        )\n",
       "        (drop_path): RecursiveScriptModule(original_name=DropPath)\n",
       "        (norm2): RecursiveScriptModule(original_name=LayerNorm)\n",
       "        (mlp): RecursiveScriptModule(\n",
       "          original_name=MLP\n",
       "          (fc1): RecursiveScriptModule(original_name=Linear)\n",
       "          (act): RecursiveScriptModule(original_name=GELU)\n",
       "          (fc2): RecursiveScriptModule(original_name=Linear)\n",
       "        )\n",
       "      )\n",
       "      (13): RecursiveScriptModule(\n",
       "        original_name=MultiScaleBlock\n",
       "        (norm1): RecursiveScriptModule(original_name=LayerNorm)\n",
       "        (attn): RecursiveScriptModule(\n",
       "          original_name=MultiScaleAttention\n",
       "          (qkv): RecursiveScriptModule(original_name=Linear)\n",
       "          (proj): RecursiveScriptModule(original_name=Linear)\n",
       "          (pool_q): RecursiveScriptModule(original_name=Conv3d)\n",
       "          (norm_q): RecursiveScriptModule(original_name=LayerNorm)\n",
       "          (pool_k): RecursiveScriptModule(original_name=Conv3d)\n",
       "          (norm_k): RecursiveScriptModule(original_name=LayerNorm)\n",
       "          (pool_v): RecursiveScriptModule(original_name=Conv3d)\n",
       "          (norm_v): RecursiveScriptModule(original_name=LayerNorm)\n",
       "        )\n",
       "        (drop_path): RecursiveScriptModule(original_name=DropPath)\n",
       "        (norm2): RecursiveScriptModule(original_name=LayerNorm)\n",
       "        (mlp): RecursiveScriptModule(\n",
       "          original_name=MLP\n",
       "          (fc1): RecursiveScriptModule(original_name=Linear)\n",
       "          (act): RecursiveScriptModule(original_name=GELU)\n",
       "          (fc2): RecursiveScriptModule(original_name=Linear)\n",
       "        )\n",
       "      )\n",
       "      (14): RecursiveScriptModule(\n",
       "        original_name=MultiScaleBlock\n",
       "        (norm1): RecursiveScriptModule(original_name=LayerNorm)\n",
       "        (attn): RecursiveScriptModule(\n",
       "          original_name=MultiScaleAttention\n",
       "          (qkv): RecursiveScriptModule(original_name=Linear)\n",
       "          (proj): RecursiveScriptModule(original_name=Linear)\n",
       "          (pool_q): RecursiveScriptModule(original_name=Conv3d)\n",
       "          (norm_q): RecursiveScriptModule(original_name=LayerNorm)\n",
       "          (pool_k): RecursiveScriptModule(original_name=Conv3d)\n",
       "          (norm_k): RecursiveScriptModule(original_name=LayerNorm)\n",
       "          (pool_v): RecursiveScriptModule(original_name=Conv3d)\n",
       "          (norm_v): RecursiveScriptModule(original_name=LayerNorm)\n",
       "        )\n",
       "        (drop_path): RecursiveScriptModule(original_name=DropPath)\n",
       "        (norm2): RecursiveScriptModule(original_name=LayerNorm)\n",
       "        (mlp): RecursiveScriptModule(\n",
       "          original_name=MLP\n",
       "          (fc1): RecursiveScriptModule(original_name=Linear)\n",
       "          (act): RecursiveScriptModule(original_name=GELU)\n",
       "          (fc2): RecursiveScriptModule(original_name=Linear)\n",
       "        )\n",
       "        (proj): RecursiveScriptModule(original_name=Linear)\n",
       "        (pool_skip): RecursiveScriptModule(original_name=MaxPool3d)\n",
       "      )\n",
       "      (15): RecursiveScriptModule(\n",
       "        original_name=MultiScaleBlock\n",
       "        (norm1): RecursiveScriptModule(original_name=LayerNorm)\n",
       "        (attn): RecursiveScriptModule(\n",
       "          original_name=MultiScaleAttention\n",
       "          (qkv): RecursiveScriptModule(original_name=Linear)\n",
       "          (proj): RecursiveScriptModule(original_name=Linear)\n",
       "          (pool_q): RecursiveScriptModule(original_name=Conv3d)\n",
       "          (norm_q): RecursiveScriptModule(original_name=LayerNorm)\n",
       "          (pool_k): RecursiveScriptModule(original_name=Conv3d)\n",
       "          (norm_k): RecursiveScriptModule(original_name=LayerNorm)\n",
       "          (pool_v): RecursiveScriptModule(original_name=Conv3d)\n",
       "          (norm_v): RecursiveScriptModule(original_name=LayerNorm)\n",
       "        )\n",
       "        (drop_path): RecursiveScriptModule(original_name=DropPath)\n",
       "        (norm2): RecursiveScriptModule(original_name=LayerNorm)\n",
       "        (mlp): RecursiveScriptModule(\n",
       "          original_name=MLP\n",
       "          (fc1): RecursiveScriptModule(original_name=Linear)\n",
       "          (act): RecursiveScriptModule(original_name=GELU)\n",
       "          (fc2): RecursiveScriptModule(original_name=Linear)\n",
       "        )\n",
       "      )\n",
       "    )\n",
       "    (norm3): RecursiveScriptModule(original_name=LayerNorm)\n",
       "  )\n",
       "  (cls_head): RecursiveScriptModule(\n",
       "    original_name=MViTHead\n",
       "    (loss_cls): RecursiveScriptModule(original_name=CrossEntropyLoss)\n",
       "    (dropout): RecursiveScriptModule(original_name=Dropout)\n",
       "    (fc_cls): RecursiveScriptModule(original_name=Linear)\n",
       "  )\n",
       ")"
      ]
     },
     "execution_count": 8,
     "metadata": {},
     "output_type": "execute_result"
    }
   ],
   "source": [
    "# Make sure to call eval() if you're using the models for inference\n",
    "swin_transformer_model.eval()\n",
    "mvitv2_model.eval()"
   ]
  },
  {
   "cell_type": "code",
   "execution_count": 9,
   "metadata": {},
   "outputs": [],
   "source": [
    "additional_models = {\n",
    "    # 'swin_transformer': swin_transformer_model,\n",
    "    'mvitv2': mvitv2_model\n",
    "}"
   ]
  },
  {
   "cell_type": "code",
   "execution_count": 10,
   "metadata": {},
   "outputs": [],
   "source": [
    "def adjust_inputs_for_model(inputs):\n",
    "    adjusted_inputs = inputs.squeeze()\n",
    "    return adjusted_inputs"
   ]
  },
  {
   "cell_type": "code",
   "execution_count": 11,
   "metadata": {},
   "outputs": [],
   "source": [
    "transform = transforms.Compose([\n",
    "    transforms.Resize((224, 224)),\n",
    "    transforms.ToTensor(),\n",
    "    transforms.Normalize(mean=[0.485, 0.456, 0.406], std=[0.229, 0.224, 0.225])\n",
    "])"
   ]
  },
  {
   "cell_type": "code",
   "execution_count": 12,
   "metadata": {},
   "outputs": [],
   "source": [
    "class PaddedSignLanguageDataset(Dataset):\n",
    "    def __init__(self, annotations, transform=None, max_length=None):\n",
    "        \"\"\"\n",
    "        Corrected custom dataset for loading sign language video tensors with padding.\n",
    "\n",
    "        Args:\n",
    "        annotations (DataFrame): DataFrame containing the annotations.\n",
    "        transform (callable, optional): Optional transform to be applied on a sample.\n",
    "        max_length (int, optional): Maximum length of the video tensors. If not provided, it will be calculated.\n",
    "        \"\"\"\n",
    "        self.annotations = annotations\n",
    "        self.transform = transform\n",
    "        self.max_length = 132\n",
    "\n",
    "        if self.max_length is None:\n",
    "            # Calculate the maximum length among all tensors\n",
    "            self.max_length = max(len(torch.load(row['attachment_id'], map_location=torch.device('cpu'))) for _, row in annotations.iterrows())\n",
    "\n",
    "    def __len__(self):\n",
    "        return len(self.annotations)\n",
    "\n",
    "    def __getitem__(self, idx):\n",
    "        tensor_path = self.annotations.iloc[idx]['attachment_id']\n",
    "        label = self.annotations.iloc[idx]['text']\n",
    "        \n",
    "        # Load the tensor\n",
    "        tensor = torch.load(tensor_path, map_location=torch.device('cpu'))\n",
    "\n",
    "        # Check if the tensor is empty or None\n",
    "        if tensor is None or len(tensor) == 0:\n",
    "            print(f\"Empty tensor found at index {idx}.\")\n",
    "            return None, label\n",
    "\n",
    "\n",
    "        # Pad the tensor to the maximum length\n",
    "        padded_tensor = torch.zeros((self.max_length, *tensor[0].shape))\n",
    "        padded_tensor[:len(tensor)] = torch.stack(tensor)\n",
    "                \n",
    "        # Apply transform if any\n",
    "        if self.transform:\n",
    "            padded_tensor = self.transform(padded_tensor)\n",
    "\n",
    "        return padded_tensor, label"
   ]
  },
  {
   "cell_type": "code",
   "execution_count": 13,
   "metadata": {},
   "outputs": [],
   "source": [
    "# Create the padded dataset and dataloader\n",
    "padded_dataset_train = PaddedSignLanguageDataset(annotations_train)\n",
    "padded_dataloader_train = DataLoader(padded_dataset_train, batch_size=4, shuffle=True)\n",
    "\n",
    "padded_dataset_val = PaddedSignLanguageDataset(annotations_val)\n",
    "padded_dataloader_val = DataLoader(padded_dataset_val, batch_size=4, shuffle=True)"
   ]
  },
  {
   "cell_type": "markdown",
   "metadata": {},
   "source": [
    "### Labels Mapping"
   ]
  },
  {
   "cell_type": "code",
   "execution_count": 14,
   "metadata": {},
   "outputs": [
    {
     "name": "stdout",
     "output_type": "stream",
     "text": [
      "Label Mapping: {'Н': 0, 'вероятно': 1, 'значить': 2, 'обычный': 3, 'овца': 4, 'продлевать': 5, 'суматоха': 6, 'такой': 7, 'цветовой оттенок': 8, 'черный': 9}\n"
     ]
    }
   ],
   "source": [
    "# Initialize an empty set to collect unique labels\n",
    "unique_labels_train = set()\n",
    "\n",
    "# Iterate over your dataset to collect unique labels\n",
    "for _, label_data in padded_dataloader_train:\n",
    "    unique_labels_train.update(label_data)\n",
    "\n",
    "# Sort the labels for consistency\n",
    "sorted_labels = sorted(unique_labels_train)\n",
    "\n",
    "# Create the label mapping\n",
    "train_label_mapping = {label: idx for idx, label in enumerate(sorted_labels)}\n",
    "\n",
    "# Print the label mapping\n",
    "print(\"Label Mapping:\", train_label_mapping)"
   ]
  },
  {
   "cell_type": "code",
   "execution_count": 15,
   "metadata": {},
   "outputs": [
    {
     "name": "stdout",
     "output_type": "stream",
     "text": [
      "Label Mapping: {'Н': 0, 'вероятно': 1, 'значить': 2, 'обычный': 3, 'овца': 4, 'продлевать': 5, 'суматоха': 6, 'такой': 7, 'цветовой оттенок': 8, 'черный': 9}\n"
     ]
    }
   ],
   "source": [
    "# Initialize an empty set to collect unique labels\n",
    "unique_labels_test = set()\n",
    "\n",
    "# Iterate over your dataset to collect unique labels\n",
    "for _, label_data in padded_dataloader_val:\n",
    "    unique_labels_test.update(label_data)\n",
    "\n",
    "# Sort the labels for consistency\n",
    "sorted_labels = sorted(unique_labels_test)\n",
    "\n",
    "# Create the label mapping\n",
    "val_label_mapping = {label: idx for idx, label in enumerate(sorted_labels)}\n",
    "\n",
    "# Print the label mapping\n",
    "print(\"Label Mapping:\", val_label_mapping)"
   ]
  },
  {
   "cell_type": "code",
   "execution_count": 16,
   "metadata": {},
   "outputs": [],
   "source": [
    "from classes import classes"
   ]
  },
  {
   "cell_type": "code",
   "execution_count": 17,
   "metadata": {},
   "outputs": [],
   "source": [
    "results = {}"
   ]
  },
  {
   "cell_type": "code",
   "execution_count": 18,
   "metadata": {},
   "outputs": [],
   "source": [
    "class TorchScriptModelWrapper(nn.Module):\n",
    "    def __init__(self, scripted_model, output_classes=10):\n",
    "        super(TorchScriptModelWrapper, self).__init__()\n",
    "        self.scripted_model = scripted_model\n",
    "        # Assuming you know the number of features from the original model's output\n",
    "        self.new_fc = nn.Linear(1001, output_classes)\n",
    "\n",
    "    def forward(self, x):\n",
    "        x = self.scripted_model(x)\n",
    "        # The output of the scripted model is then passed through the new fully connected layer\n",
    "        x = self.new_fc(x)\n",
    "        return x"
   ]
  },
  {
   "cell_type": "code",
   "execution_count": 19,
   "metadata": {},
   "outputs": [],
   "source": [
    "checkpoint_dir = 'checkpoints'\n",
    "os.makedirs(checkpoint_dir, exist_ok=True)"
   ]
  },
  {
   "cell_type": "code",
   "execution_count": 20,
   "metadata": {},
   "outputs": [
    {
     "name": "stderr",
     "output_type": "stream",
     "text": [
      "Model: mvitv2:   0%|          | 0/13 [00:00<?, ?it/s]"
     ]
    },
    {
     "name": "stderr",
     "output_type": "stream",
     "text": []
    },
    {
     "name": "stdout",
     "output_type": "stream",
     "text": [
      "pred_label 7, label 7\n"
     ]
    },
    {
     "name": "stderr",
     "output_type": "stream",
     "text": []
    },
    {
     "name": "stdout",
     "output_type": "stream",
     "text": [
      "pred_label 7, label 6\n"
     ]
    },
    {
     "name": "stderr",
     "output_type": "stream",
     "text": []
    },
    {
     "name": "stdout",
     "output_type": "stream",
     "text": [
      "pred_label 7, label 7\n"
     ]
    },
    {
     "name": "stderr",
     "output_type": "stream",
     "text": [
      "Model: mvitv2:   8%|▊         | 1/13 [13:05<2:37:03, 785.26s/it]"
     ]
    },
    {
     "name": "stdout",
     "output_type": "stream",
     "text": [
      "pred_label 7, label 9\n"
     ]
    },
    {
     "name": "stderr",
     "output_type": "stream",
     "text": []
    },
    {
     "name": "stdout",
     "output_type": "stream",
     "text": [
      "pred_label 7, label 1\n"
     ]
    },
    {
     "name": "stderr",
     "output_type": "stream",
     "text": []
    },
    {
     "name": "stdout",
     "output_type": "stream",
     "text": [
      "pred_label 7, label 5\n"
     ]
    },
    {
     "name": "stderr",
     "output_type": "stream",
     "text": []
    },
    {
     "name": "stdout",
     "output_type": "stream",
     "text": [
      "pred_label 7, label 4\n"
     ]
    },
    {
     "name": "stderr",
     "output_type": "stream",
     "text": [
      "Model: mvitv2:  15%|█▌        | 2/13 [26:20<2:25:04, 791.29s/it]"
     ]
    },
    {
     "name": "stdout",
     "output_type": "stream",
     "text": [
      "pred_label 4, label 5\n"
     ]
    },
    {
     "name": "stderr",
     "output_type": "stream",
     "text": []
    },
    {
     "name": "stdout",
     "output_type": "stream",
     "text": [
      "pred_label 5, label 1\n"
     ]
    },
    {
     "name": "stderr",
     "output_type": "stream",
     "text": []
    },
    {
     "name": "stdout",
     "output_type": "stream",
     "text": [
      "pred_label 5, label 0\n"
     ]
    },
    {
     "name": "stderr",
     "output_type": "stream",
     "text": []
    },
    {
     "name": "stdout",
     "output_type": "stream",
     "text": [
      "pred_label 5, label 0\n"
     ]
    },
    {
     "name": "stderr",
     "output_type": "stream",
     "text": [
      "Model: mvitv2:  23%|██▎       | 3/13 [39:55<2:13:39, 801.96s/it]"
     ]
    },
    {
     "name": "stdout",
     "output_type": "stream",
     "text": [
      "pred_label 0, label 0\n"
     ]
    },
    {
     "name": "stderr",
     "output_type": "stream",
     "text": []
    },
    {
     "name": "stdout",
     "output_type": "stream",
     "text": [
      "pred_label 0, label 3\n"
     ]
    },
    {
     "name": "stderr",
     "output_type": "stream",
     "text": []
    },
    {
     "name": "stdout",
     "output_type": "stream",
     "text": [
      "pred_label 0, label 2\n"
     ]
    },
    {
     "name": "stderr",
     "output_type": "stream",
     "text": []
    },
    {
     "name": "stdout",
     "output_type": "stream",
     "text": [
      "pred_label 0, label 8\n"
     ]
    },
    {
     "name": "stderr",
     "output_type": "stream",
     "text": [
      "Model: mvitv2:  31%|███       | 4/13 [53:50<2:02:17, 815.23s/it]"
     ]
    },
    {
     "name": "stdout",
     "output_type": "stream",
     "text": [
      "pred_label 0, label 3\n"
     ]
    },
    {
     "name": "stderr",
     "output_type": "stream",
     "text": []
    },
    {
     "name": "stdout",
     "output_type": "stream",
     "text": [
      "pred_label 0, label 5\n"
     ]
    },
    {
     "name": "stderr",
     "output_type": "stream",
     "text": []
    },
    {
     "name": "stdout",
     "output_type": "stream",
     "text": [
      "pred_label 5, label 4\n"
     ]
    },
    {
     "name": "stderr",
     "output_type": "stream",
     "text": []
    },
    {
     "name": "stdout",
     "output_type": "stream",
     "text": [
      "pred_label 4, label 9\n"
     ]
    },
    {
     "name": "stderr",
     "output_type": "stream",
     "text": [
      "Model: mvitv2:  38%|███▊      | 5/13 [1:07:32<1:48:59, 817.40s/it]"
     ]
    },
    {
     "name": "stdout",
     "output_type": "stream",
     "text": [
      "pred_label 5, label 3\n"
     ]
    },
    {
     "name": "stderr",
     "output_type": "stream",
     "text": []
    },
    {
     "name": "stdout",
     "output_type": "stream",
     "text": [
      "pred_label 3, label 2\n"
     ]
    },
    {
     "name": "stderr",
     "output_type": "stream",
     "text": []
    },
    {
     "name": "stdout",
     "output_type": "stream",
     "text": [
      "pred_label 3, label 6\n"
     ]
    },
    {
     "name": "stderr",
     "output_type": "stream",
     "text": []
    },
    {
     "name": "stdout",
     "output_type": "stream",
     "text": [
      "pred_label 4, label 4\n"
     ]
    },
    {
     "name": "stderr",
     "output_type": "stream",
     "text": [
      "Model: mvitv2:  46%|████▌     | 6/13 [1:21:00<1:34:58, 814.13s/it]"
     ]
    },
    {
     "name": "stdout",
     "output_type": "stream",
     "text": [
      "pred_label 4, label 7\n"
     ]
    },
    {
     "name": "stderr",
     "output_type": "stream",
     "text": []
    },
    {
     "name": "stdout",
     "output_type": "stream",
     "text": [
      "pred_label 4, label 8\n"
     ]
    },
    {
     "name": "stderr",
     "output_type": "stream",
     "text": []
    },
    {
     "name": "stdout",
     "output_type": "stream",
     "text": [
      "pred_label 4, label 4\n"
     ]
    },
    {
     "name": "stderr",
     "output_type": "stream",
     "text": []
    },
    {
     "name": "stdout",
     "output_type": "stream",
     "text": [
      "pred_label 4, label 1\n"
     ]
    },
    {
     "name": "stderr",
     "output_type": "stream",
     "text": [
      "Model: mvitv2:  54%|█████▍    | 7/13 [1:34:16<1:20:49, 808.31s/it]"
     ]
    },
    {
     "name": "stdout",
     "output_type": "stream",
     "text": [
      "pred_label 4, label 8\n"
     ]
    },
    {
     "name": "stderr",
     "output_type": "stream",
     "text": []
    },
    {
     "name": "stdout",
     "output_type": "stream",
     "text": [
      "pred_label 4, label 6\n"
     ]
    },
    {
     "name": "stderr",
     "output_type": "stream",
     "text": []
    },
    {
     "name": "stdout",
     "output_type": "stream",
     "text": [
      "pred_label 4, label 8\n"
     ]
    },
    {
     "name": "stderr",
     "output_type": "stream",
     "text": []
    },
    {
     "name": "stdout",
     "output_type": "stream",
     "text": [
      "pred_label 8, label 5\n"
     ]
    },
    {
     "name": "stderr",
     "output_type": "stream",
     "text": [
      "Model: mvitv2:  62%|██████▏   | 8/13 [1:47:12<1:06:30, 798.13s/it]"
     ]
    },
    {
     "name": "stdout",
     "output_type": "stream",
     "text": [
      "pred_label 8, label 9\n"
     ]
    },
    {
     "name": "stderr",
     "output_type": "stream",
     "text": []
    },
    {
     "name": "stdout",
     "output_type": "stream",
     "text": [
      "pred_label 8, label 6\n"
     ]
    },
    {
     "name": "stderr",
     "output_type": "stream",
     "text": []
    },
    {
     "name": "stdout",
     "output_type": "stream",
     "text": [
      "pred_label 8, label 0\n"
     ]
    },
    {
     "name": "stderr",
     "output_type": "stream",
     "text": []
    },
    {
     "name": "stdout",
     "output_type": "stream",
     "text": [
      "pred_label 8, label 8\n"
     ]
    },
    {
     "name": "stderr",
     "output_type": "stream",
     "text": [
      "Model: mvitv2:  69%|██████▉   | 9/13 [1:59:59<52:33, 788.38s/it]  "
     ]
    },
    {
     "name": "stdout",
     "output_type": "stream",
     "text": [
      "pred_label 8, label 1\n"
     ]
    },
    {
     "name": "stderr",
     "output_type": "stream",
     "text": []
    },
    {
     "name": "stdout",
     "output_type": "stream",
     "text": [
      "pred_label 8, label 5\n"
     ]
    },
    {
     "name": "stderr",
     "output_type": "stream",
     "text": []
    },
    {
     "name": "stdout",
     "output_type": "stream",
     "text": [
      "pred_label 8, label 6\n"
     ]
    },
    {
     "name": "stderr",
     "output_type": "stream",
     "text": []
    },
    {
     "name": "stdout",
     "output_type": "stream",
     "text": [
      "pred_label 6, label 0\n"
     ]
    },
    {
     "name": "stderr",
     "output_type": "stream",
     "text": [
      "Model: mvitv2:  77%|███████▋  | 10/13 [2:13:00<39:18, 786.06s/it]"
     ]
    },
    {
     "name": "stdout",
     "output_type": "stream",
     "text": [
      "pred_label 6, label 7\n"
     ]
    },
    {
     "name": "stderr",
     "output_type": "stream",
     "text": []
    },
    {
     "name": "stdout",
     "output_type": "stream",
     "text": [
      "pred_label 6, label 9\n"
     ]
    },
    {
     "name": "stderr",
     "output_type": "stream",
     "text": []
    },
    {
     "name": "stdout",
     "output_type": "stream",
     "text": [
      "pred_label 6, label 2\n"
     ]
    },
    {
     "name": "stderr",
     "output_type": "stream",
     "text": []
    },
    {
     "name": "stdout",
     "output_type": "stream",
     "text": [
      "pred_label 6, label 3\n"
     ]
    },
    {
     "name": "stderr",
     "output_type": "stream",
     "text": [
      "Model: mvitv2:  85%|████████▍ | 11/13 [2:25:58<26:07, 783.58s/it]"
     ]
    },
    {
     "name": "stdout",
     "output_type": "stream",
     "text": [
      "pred_label 6, label 1\n"
     ]
    },
    {
     "name": "stderr",
     "output_type": "stream",
     "text": []
    },
    {
     "name": "stdout",
     "output_type": "stream",
     "text": [
      "pred_label 1, label 4\n"
     ]
    },
    {
     "name": "stderr",
     "output_type": "stream",
     "text": []
    },
    {
     "name": "stdout",
     "output_type": "stream",
     "text": [
      "pred_label 1, label 2\n"
     ]
    },
    {
     "name": "stderr",
     "output_type": "stream",
     "text": []
    },
    {
     "name": "stdout",
     "output_type": "stream",
     "text": [
      "pred_label 2, label 2\n"
     ]
    },
    {
     "name": "stderr",
     "output_type": "stream",
     "text": [
      "Model: mvitv2:  92%|█████████▏| 12/13 [2:38:44<12:58, 778.31s/it]"
     ]
    },
    {
     "name": "stdout",
     "output_type": "stream",
     "text": [
      "pred_label 2, label 7\n"
     ]
    },
    {
     "name": "stderr",
     "output_type": "stream",
     "text": []
    },
    {
     "name": "stdout",
     "output_type": "stream",
     "text": [
      "pred_label 2, label 9\n"
     ]
    },
    {
     "name": "stderr",
     "output_type": "stream",
     "text": [
      "Model: mvitv2: 100%|██████████| 13/13 [2:45:19<00:00, 763.01s/it]"
     ]
    },
    {
     "name": "stdout",
     "output_type": "stream",
     "text": [
      "pred_label 2, label 3\n"
     ]
    },
    {
     "name": "stderr",
     "output_type": "stream",
     "text": [
      "\n",
      "Model: mvitv2:   0%|          | 0/13 [00:00<?, ?it/s]"
     ]
    },
    {
     "name": "stdout",
     "output_type": "stream",
     "text": [
      "pred_label 2, label 4\n"
     ]
    },
    {
     "name": "stderr",
     "output_type": "stream",
     "text": []
    },
    {
     "name": "stdout",
     "output_type": "stream",
     "text": [
      "pred_label 4, label 7\n"
     ]
    },
    {
     "name": "stderr",
     "output_type": "stream",
     "text": []
    },
    {
     "name": "stdout",
     "output_type": "stream",
     "text": [
      "pred_label 7, label 0\n"
     ]
    },
    {
     "name": "stderr",
     "output_type": "stream",
     "text": [
      "Model: mvitv2:   8%|▊         | 1/13 [13:23<2:40:36, 803.01s/it]"
     ]
    },
    {
     "name": "stdout",
     "output_type": "stream",
     "text": [
      "pred_label 7, label 6\n"
     ]
    },
    {
     "name": "stderr",
     "output_type": "stream",
     "text": []
    },
    {
     "name": "stdout",
     "output_type": "stream",
     "text": [
      "pred_label 7, label 7\n"
     ]
    },
    {
     "name": "stderr",
     "output_type": "stream",
     "text": []
    },
    {
     "name": "stdout",
     "output_type": "stream",
     "text": [
      "pred_label 7, label 8\n"
     ]
    },
    {
     "name": "stderr",
     "output_type": "stream",
     "text": []
    },
    {
     "name": "stdout",
     "output_type": "stream",
     "text": [
      "pred_label 7, label 0\n"
     ]
    },
    {
     "name": "stderr",
     "output_type": "stream",
     "text": [
      "Model: mvitv2:  15%|█▌        | 2/13 [26:49<2:27:38, 805.33s/it]"
     ]
    },
    {
     "name": "stdout",
     "output_type": "stream",
     "text": [
      "pred_label 7, label 1\n"
     ]
    },
    {
     "name": "stderr",
     "output_type": "stream",
     "text": []
    },
    {
     "name": "stdout",
     "output_type": "stream",
     "text": [
      "pred_label 7, label 2\n"
     ]
    },
    {
     "name": "stderr",
     "output_type": "stream",
     "text": []
    },
    {
     "name": "stdout",
     "output_type": "stream",
     "text": [
      "pred_label 2, label 4\n"
     ]
    },
    {
     "name": "stderr",
     "output_type": "stream",
     "text": []
    },
    {
     "name": "stdout",
     "output_type": "stream",
     "text": [
      "pred_label 4, label 8\n"
     ]
    },
    {
     "name": "stderr",
     "output_type": "stream",
     "text": [
      "Model: mvitv2:  23%|██▎       | 3/13 [39:56<2:12:46, 796.64s/it]"
     ]
    },
    {
     "name": "stdout",
     "output_type": "stream",
     "text": [
      "pred_label 8, label 9\n"
     ]
    },
    {
     "name": "stderr",
     "output_type": "stream",
     "text": []
    },
    {
     "name": "stdout",
     "output_type": "stream",
     "text": [
      "pred_label 2, label 2\n"
     ]
    },
    {
     "name": "stderr",
     "output_type": "stream",
     "text": []
    },
    {
     "name": "stdout",
     "output_type": "stream",
     "text": [
      "pred_label 2, label 6\n"
     ]
    },
    {
     "name": "stderr",
     "output_type": "stream",
     "text": []
    },
    {
     "name": "stdout",
     "output_type": "stream",
     "text": [
      "pred_label 2, label 5\n"
     ]
    },
    {
     "name": "stderr",
     "output_type": "stream",
     "text": [
      "Model: mvitv2:  31%|███       | 4/13 [52:44<1:57:47, 785.28s/it]"
     ]
    },
    {
     "name": "stdout",
     "output_type": "stream",
     "text": [
      "pred_label 2, label 9\n"
     ]
    },
    {
     "name": "stderr",
     "output_type": "stream",
     "text": []
    },
    {
     "name": "stdout",
     "output_type": "stream",
     "text": [
      "pred_label 9, label 4\n"
     ]
    },
    {
     "name": "stderr",
     "output_type": "stream",
     "text": []
    },
    {
     "name": "stdout",
     "output_type": "stream",
     "text": [
      "pred_label 4, label 1\n"
     ]
    },
    {
     "name": "stderr",
     "output_type": "stream",
     "text": []
    },
    {
     "name": "stdout",
     "output_type": "stream",
     "text": [
      "pred_label 4, label 3\n"
     ]
    },
    {
     "name": "stderr",
     "output_type": "stream",
     "text": [
      "Model: mvitv2:  38%|███▊      | 5/13 [1:24:39<2:39:02, 1192.86s/it]"
     ]
    },
    {
     "name": "stdout",
     "output_type": "stream",
     "text": [
      "pred_label 4, label 3\n"
     ]
    },
    {
     "name": "stderr",
     "output_type": "stream",
     "text": []
    },
    {
     "name": "stdout",
     "output_type": "stream",
     "text": [
      "pred_label 3, label 3\n"
     ]
    },
    {
     "name": "stderr",
     "output_type": "stream",
     "text": []
    },
    {
     "name": "stdout",
     "output_type": "stream",
     "text": [
      "pred_label 3, label 2\n"
     ]
    },
    {
     "name": "stderr",
     "output_type": "stream",
     "text": []
    },
    {
     "name": "stdout",
     "output_type": "stream",
     "text": [
      "pred_label 3, label 8\n"
     ]
    },
    {
     "name": "stderr",
     "output_type": "stream",
     "text": [
      "Model: mvitv2:  46%|████▌     | 6/13 [1:38:37<2:05:06, 1072.29s/it]"
     ]
    },
    {
     "name": "stdout",
     "output_type": "stream",
     "text": [
      "pred_label 3, label 3\n"
     ]
    },
    {
     "name": "stderr",
     "output_type": "stream",
     "text": []
    },
    {
     "name": "stdout",
     "output_type": "stream",
     "text": [
      "pred_label 3, label 9\n"
     ]
    },
    {
     "name": "stderr",
     "output_type": "stream",
     "text": []
    },
    {
     "name": "stdout",
     "output_type": "stream",
     "text": [
      "pred_label 3, label 6\n"
     ]
    },
    {
     "name": "stderr",
     "output_type": "stream",
     "text": []
    },
    {
     "name": "stdout",
     "output_type": "stream",
     "text": [
      "pred_label 3, label 4\n"
     ]
    },
    {
     "name": "stderr",
     "output_type": "stream",
     "text": [
      "Model: mvitv2:  54%|█████▍    | 7/13 [1:52:23<1:39:10, 991.80s/it] "
     ]
    },
    {
     "name": "stdout",
     "output_type": "stream",
     "text": [
      "pred_label 3, label 7\n"
     ]
    },
    {
     "name": "stderr",
     "output_type": "stream",
     "text": []
    },
    {
     "name": "stdout",
     "output_type": "stream",
     "text": [
      "pred_label 3, label 0\n"
     ]
    },
    {
     "name": "stderr",
     "output_type": "stream",
     "text": []
    },
    {
     "name": "stdout",
     "output_type": "stream",
     "text": [
      "pred_label 3, label 8\n"
     ]
    },
    {
     "name": "stderr",
     "output_type": "stream",
     "text": []
    },
    {
     "name": "stdout",
     "output_type": "stream",
     "text": [
      "pred_label 8, label 5\n"
     ]
    },
    {
     "name": "stderr",
     "output_type": "stream",
     "text": [
      "Model: mvitv2:  62%|██████▏   | 8/13 [2:05:38<1:17:24, 928.93s/it]"
     ]
    },
    {
     "name": "stdout",
     "output_type": "stream",
     "text": [
      "pred_label 8, label 9\n"
     ]
    },
    {
     "name": "stderr",
     "output_type": "stream",
     "text": []
    },
    {
     "name": "stdout",
     "output_type": "stream",
     "text": [
      "pred_label 9, label 1\n"
     ]
    },
    {
     "name": "stderr",
     "output_type": "stream",
     "text": []
    },
    {
     "name": "stdout",
     "output_type": "stream",
     "text": [
      "pred_label 1, label 2\n"
     ]
    },
    {
     "name": "stderr",
     "output_type": "stream",
     "text": []
    },
    {
     "name": "stdout",
     "output_type": "stream",
     "text": [
      "pred_label 1, label 5\n"
     ]
    },
    {
     "name": "stderr",
     "output_type": "stream",
     "text": [
      "Model: mvitv2:  69%|██████▉   | 9/13 [2:19:03<59:21, 890.27s/it]  "
     ]
    },
    {
     "name": "stdout",
     "output_type": "stream",
     "text": [
      "pred_label 1, label 0\n"
     ]
    },
    {
     "name": "stderr",
     "output_type": "stream",
     "text": []
    },
    {
     "name": "stdout",
     "output_type": "stream",
     "text": [
      "pred_label 1, label 4\n"
     ]
    },
    {
     "name": "stderr",
     "output_type": "stream",
     "text": []
    },
    {
     "name": "stdout",
     "output_type": "stream",
     "text": [
      "pred_label 1, label 9\n"
     ]
    },
    {
     "name": "stderr",
     "output_type": "stream",
     "text": []
    },
    {
     "name": "stdout",
     "output_type": "stream",
     "text": [
      "pred_label 9, label 7\n"
     ]
    },
    {
     "name": "stderr",
     "output_type": "stream",
     "text": [
      "Model: mvitv2:  77%|███████▋  | 10/13 [2:33:15<43:55, 878.52s/it]"
     ]
    },
    {
     "name": "stdout",
     "output_type": "stream",
     "text": [
      "pred_label 9, label 3\n"
     ]
    },
    {
     "name": "stderr",
     "output_type": "stream",
     "text": []
    },
    {
     "name": "stdout",
     "output_type": "stream",
     "text": [
      "pred_label 9, label 6\n"
     ]
    },
    {
     "name": "stderr",
     "output_type": "stream",
     "text": []
    },
    {
     "name": "stdout",
     "output_type": "stream",
     "text": [
      "pred_label 9, label 8\n"
     ]
    },
    {
     "name": "stderr",
     "output_type": "stream",
     "text": []
    },
    {
     "name": "stdout",
     "output_type": "stream",
     "text": [
      "pred_label 5, label 5\n"
     ]
    },
    {
     "name": "stderr",
     "output_type": "stream",
     "text": [
      "Model: mvitv2:  85%|████████▍ | 11/13 [2:47:29<29:02, 871.01s/it]"
     ]
    },
    {
     "name": "stdout",
     "output_type": "stream",
     "text": [
      "pred_label 5, label 7\n"
     ]
    },
    {
     "name": "stderr",
     "output_type": "stream",
     "text": []
    },
    {
     "name": "stdout",
     "output_type": "stream",
     "text": [
      "pred_label 7, label 1\n"
     ]
    },
    {
     "name": "stderr",
     "output_type": "stream",
     "text": []
    },
    {
     "name": "stdout",
     "output_type": "stream",
     "text": [
      "pred_label 7, label 6\n"
     ]
    },
    {
     "name": "stderr",
     "output_type": "stream",
     "text": []
    },
    {
     "name": "stdout",
     "output_type": "stream",
     "text": [
      "pred_label 6, label 2\n"
     ]
    },
    {
     "name": "stderr",
     "output_type": "stream",
     "text": [
      "Model: mvitv2:  92%|█████████▏| 12/13 [3:02:28<14:39, 879.36s/it]"
     ]
    },
    {
     "name": "stdout",
     "output_type": "stream",
     "text": [
      "pred_label 1, label 1\n"
     ]
    },
    {
     "name": "stderr",
     "output_type": "stream",
     "text": []
    },
    {
     "name": "stdout",
     "output_type": "stream",
     "text": [
      "pred_label 1, label 0\n"
     ]
    },
    {
     "name": "stderr",
     "output_type": "stream",
     "text": [
      "Model: mvitv2: 100%|██████████| 13/13 [3:09:26<00:00, 874.35s/it]"
     ]
    },
    {
     "name": "stdout",
     "output_type": "stream",
     "text": [
      "pred_label 1, label 5\n"
     ]
    },
    {
     "name": "stderr",
     "output_type": "stream",
     "text": [
      "\n",
      "Model: mvitv2:   0%|          | 0/13 [00:00<?, ?it/s]"
     ]
    },
    {
     "name": "stdout",
     "output_type": "stream",
     "text": [
      "pred_label 5, label 5\n"
     ]
    },
    {
     "name": "stderr",
     "output_type": "stream",
     "text": []
    },
    {
     "name": "stdout",
     "output_type": "stream",
     "text": [
      "pred_label 5, label 4\n"
     ]
    },
    {
     "name": "stderr",
     "output_type": "stream",
     "text": []
    },
    {
     "name": "stdout",
     "output_type": "stream",
     "text": [
      "pred_label 5, label 7\n"
     ]
    },
    {
     "name": "stderr",
     "output_type": "stream",
     "text": [
      "Model: mvitv2:   8%|▊         | 1/13 [14:56<2:59:14, 896.25s/it]"
     ]
    },
    {
     "name": "stdout",
     "output_type": "stream",
     "text": [
      "pred_label 5, label 2\n"
     ]
    },
    {
     "name": "stderr",
     "output_type": "stream",
     "text": []
    },
    {
     "name": "stdout",
     "output_type": "stream",
     "text": [
      "pred_label 5, label 9\n"
     ]
    },
    {
     "name": "stderr",
     "output_type": "stream",
     "text": []
    },
    {
     "name": "stdout",
     "output_type": "stream",
     "text": [
      "pred_label 5, label 3\n"
     ]
    },
    {
     "name": "stderr",
     "output_type": "stream",
     "text": []
    },
    {
     "name": "stdout",
     "output_type": "stream",
     "text": [
      "pred_label 7, label 7\n"
     ]
    },
    {
     "name": "stderr",
     "output_type": "stream",
     "text": [
      "Model: mvitv2:  15%|█▌        | 2/13 [29:26<2:41:30, 880.99s/it]"
     ]
    },
    {
     "name": "stdout",
     "output_type": "stream",
     "text": [
      "pred_label 7, label 2\n"
     ]
    },
    {
     "name": "stderr",
     "output_type": "stream",
     "text": []
    },
    {
     "name": "stdout",
     "output_type": "stream",
     "text": [
      "pred_label 2, label 5\n"
     ]
    },
    {
     "name": "stderr",
     "output_type": "stream",
     "text": []
    },
    {
     "name": "stdout",
     "output_type": "stream",
     "text": [
      "pred_label 5, label 9\n"
     ]
    },
    {
     "name": "stderr",
     "output_type": "stream",
     "text": []
    },
    {
     "name": "stdout",
     "output_type": "stream",
     "text": [
      "pred_label 5, label 4\n"
     ]
    },
    {
     "name": "stderr",
     "output_type": "stream",
     "text": [
      "Model: mvitv2:  23%|██▎       | 3/13 [43:42<2:24:57, 869.72s/it]"
     ]
    },
    {
     "name": "stdout",
     "output_type": "stream",
     "text": [
      "pred_label 5, label 4\n"
     ]
    },
    {
     "name": "stderr",
     "output_type": "stream",
     "text": []
    },
    {
     "name": "stdout",
     "output_type": "stream",
     "text": [
      "pred_label 5, label 5\n"
     ]
    },
    {
     "name": "stderr",
     "output_type": "stream",
     "text": []
    },
    {
     "name": "stdout",
     "output_type": "stream",
     "text": [
      "pred_label 5, label 0\n"
     ]
    },
    {
     "name": "stderr",
     "output_type": "stream",
     "text": []
    },
    {
     "name": "stdout",
     "output_type": "stream",
     "text": [
      "pred_label 5, label 4\n"
     ]
    },
    {
     "name": "stderr",
     "output_type": "stream",
     "text": [
      "Model: mvitv2:  31%|███       | 4/13 [58:22<2:11:03, 873.73s/it]"
     ]
    },
    {
     "name": "stdout",
     "output_type": "stream",
     "text": [
      "pred_label 4, label 4\n"
     ]
    },
    {
     "name": "stderr",
     "output_type": "stream",
     "text": []
    },
    {
     "name": "stdout",
     "output_type": "stream",
     "text": [
      "pred_label 4, label 9\n"
     ]
    },
    {
     "name": "stderr",
     "output_type": "stream",
     "text": []
    },
    {
     "name": "stdout",
     "output_type": "stream",
     "text": [
      "pred_label 4, label 8\n"
     ]
    },
    {
     "name": "stderr",
     "output_type": "stream",
     "text": []
    },
    {
     "name": "stdout",
     "output_type": "stream",
     "text": [
      "pred_label 4, label 8\n"
     ]
    },
    {
     "name": "stderr",
     "output_type": "stream",
     "text": [
      "Model: mvitv2:  38%|███▊      | 5/13 [1:12:21<1:54:49, 861.25s/it]"
     ]
    },
    {
     "name": "stdout",
     "output_type": "stream",
     "text": [
      "pred_label 4, label 3\n"
     ]
    },
    {
     "name": "stderr",
     "output_type": "stream",
     "text": []
    },
    {
     "name": "stdout",
     "output_type": "stream",
     "text": [
      "pred_label 4, label 6\n"
     ]
    },
    {
     "name": "stderr",
     "output_type": "stream",
     "text": []
    },
    {
     "name": "stdout",
     "output_type": "stream",
     "text": [
      "pred_label 4, label 6\n"
     ]
    },
    {
     "name": "stderr",
     "output_type": "stream",
     "text": []
    },
    {
     "name": "stdout",
     "output_type": "stream",
     "text": [
      "pred_label 4, label 0\n"
     ]
    },
    {
     "name": "stderr",
     "output_type": "stream",
     "text": [
      "Model: mvitv2:  46%|████▌     | 6/13 [1:27:21<1:41:59, 874.18s/it]"
     ]
    },
    {
     "name": "stdout",
     "output_type": "stream",
     "text": [
      "pred_label 4, label 7\n"
     ]
    },
    {
     "name": "stderr",
     "output_type": "stream",
     "text": []
    },
    {
     "name": "stdout",
     "output_type": "stream",
     "text": [
      "pred_label 6, label 6\n"
     ]
    },
    {
     "name": "stderr",
     "output_type": "stream",
     "text": []
    },
    {
     "name": "stdout",
     "output_type": "stream",
     "text": [
      "pred_label 6, label 7\n"
     ]
    },
    {
     "name": "stderr",
     "output_type": "stream",
     "text": []
    },
    {
     "name": "stdout",
     "output_type": "stream",
     "text": [
      "pred_label 7, label 1\n"
     ]
    },
    {
     "name": "stderr",
     "output_type": "stream",
     "text": [
      "Model: mvitv2:  54%|█████▍    | 7/13 [1:42:27<1:28:27, 884.57s/it]"
     ]
    },
    {
     "name": "stdout",
     "output_type": "stream",
     "text": [
      "pred_label 7, label 8\n"
     ]
    },
    {
     "name": "stderr",
     "output_type": "stream",
     "text": []
    },
    {
     "name": "stdout",
     "output_type": "stream",
     "text": [
      "pred_label 8, label 8\n"
     ]
    },
    {
     "name": "stderr",
     "output_type": "stream",
     "text": []
    },
    {
     "name": "stdout",
     "output_type": "stream",
     "text": [
      "pred_label 8, label 5\n"
     ]
    },
    {
     "name": "stderr",
     "output_type": "stream",
     "text": []
    },
    {
     "name": "stdout",
     "output_type": "stream",
     "text": [
      "pred_label 8, label 0\n"
     ]
    },
    {
     "name": "stderr",
     "output_type": "stream",
     "text": [
      "Model: mvitv2:  62%|██████▏   | 8/13 [1:58:24<1:15:39, 907.87s/it]"
     ]
    },
    {
     "name": "stdout",
     "output_type": "stream",
     "text": [
      "pred_label 8, label 9\n"
     ]
    },
    {
     "name": "stderr",
     "output_type": "stream",
     "text": []
    },
    {
     "name": "stdout",
     "output_type": "stream",
     "text": [
      "pred_label 8, label 2\n"
     ]
    },
    {
     "name": "stderr",
     "output_type": "stream",
     "text": []
    },
    {
     "name": "stdout",
     "output_type": "stream",
     "text": [
      "pred_label 8, label 1\n"
     ]
    },
    {
     "name": "stderr",
     "output_type": "stream",
     "text": []
    },
    {
     "name": "stdout",
     "output_type": "stream",
     "text": [
      "pred_label 8, label 2\n"
     ]
    },
    {
     "name": "stderr",
     "output_type": "stream",
     "text": [
      "Model: mvitv2:  69%|██████▉   | 9/13 [2:20:17<1:08:58, 1034.54s/it]"
     ]
    },
    {
     "name": "stdout",
     "output_type": "stream",
     "text": [
      "pred_label 2, label 6\n"
     ]
    },
    {
     "name": "stderr",
     "output_type": "stream",
     "text": []
    },
    {
     "name": "stdout",
     "output_type": "stream",
     "text": [
      "pred_label 6, label 8\n"
     ]
    },
    {
     "name": "stderr",
     "output_type": "stream",
     "text": []
    },
    {
     "name": "stdout",
     "output_type": "stream",
     "text": [
      "pred_label 8, label 7\n"
     ]
    },
    {
     "name": "stderr",
     "output_type": "stream",
     "text": []
    },
    {
     "name": "stdout",
     "output_type": "stream",
     "text": [
      "pred_label 8, label 3\n"
     ]
    },
    {
     "name": "stderr",
     "output_type": "stream",
     "text": [
      "Model: mvitv2:  77%|███████▋  | 10/13 [2:35:36<49:56, 998.80s/it]  "
     ]
    },
    {
     "name": "stdout",
     "output_type": "stream",
     "text": [
      "pred_label 8, label 5\n"
     ]
    },
    {
     "name": "stderr",
     "output_type": "stream",
     "text": []
    },
    {
     "name": "stdout",
     "output_type": "stream",
     "text": [
      "pred_label 6, label 6\n"
     ]
    },
    {
     "name": "stderr",
     "output_type": "stream",
     "text": []
    },
    {
     "name": "stdout",
     "output_type": "stream",
     "text": [
      "pred_label 6, label 1\n"
     ]
    },
    {
     "name": "stderr",
     "output_type": "stream",
     "text": []
    },
    {
     "name": "stdout",
     "output_type": "stream",
     "text": [
      "pred_label 6, label 1\n"
     ]
    },
    {
     "name": "stderr",
     "output_type": "stream",
     "text": [
      "Model: mvitv2:  85%|████████▍ | 11/13 [3:16:04<47:52, 1436.17s/it]"
     ]
    },
    {
     "name": "stdout",
     "output_type": "stream",
     "text": [
      "pred_label 1, label 3\n"
     ]
    },
    {
     "name": "stderr",
     "output_type": "stream",
     "text": []
    },
    {
     "name": "stdout",
     "output_type": "stream",
     "text": [
      "pred_label 1, label 0\n"
     ]
    },
    {
     "name": "stderr",
     "output_type": "stream",
     "text": []
    },
    {
     "name": "stdout",
     "output_type": "stream",
     "text": [
      "pred_label 1, label 2\n"
     ]
    },
    {
     "name": "stderr",
     "output_type": "stream",
     "text": []
    },
    {
     "name": "stdout",
     "output_type": "stream",
     "text": [
      "pred_label 1, label 3\n"
     ]
    },
    {
     "name": "stderr",
     "output_type": "stream",
     "text": [
      "Model: mvitv2:  92%|█████████▏| 12/13 [3:34:06<22:08, 1328.29s/it]"
     ]
    },
    {
     "name": "stdout",
     "output_type": "stream",
     "text": [
      "pred_label 3, label 9\n"
     ]
    },
    {
     "name": "stderr",
     "output_type": "stream",
     "text": []
    },
    {
     "name": "stdout",
     "output_type": "stream",
     "text": [
      "pred_label 1, label 1\n"
     ]
    },
    {
     "name": "stderr",
     "output_type": "stream",
     "text": [
      "Model: mvitv2: 100%|██████████| 13/13 [3:43:05<00:00, 1029.64s/it]"
     ]
    },
    {
     "name": "stdout",
     "output_type": "stream",
     "text": [
      "pred_label 1, label 0\n"
     ]
    },
    {
     "name": "stderr",
     "output_type": "stream",
     "text": [
      "\n",
      "Model: mvitv2:   0%|          | 0/13 [00:00<?, ?it/s]"
     ]
    },
    {
     "name": "stdout",
     "output_type": "stream",
     "text": [
      "pred_label 1, label 3\n"
     ]
    },
    {
     "name": "stderr",
     "output_type": "stream",
     "text": []
    },
    {
     "name": "stdout",
     "output_type": "stream",
     "text": [
      "pred_label 3, label 0\n"
     ]
    },
    {
     "name": "stderr",
     "output_type": "stream",
     "text": []
    },
    {
     "name": "stdout",
     "output_type": "stream",
     "text": [
      "pred_label 0, label 4\n"
     ]
    },
    {
     "name": "stderr",
     "output_type": "stream",
     "text": [
      "Model: mvitv2:   8%|▊         | 1/13 [14:44<2:56:52, 884.34s/it]"
     ]
    },
    {
     "name": "stdout",
     "output_type": "stream",
     "text": [
      "pred_label 3, label 3\n"
     ]
    },
    {
     "name": "stderr",
     "output_type": "stream",
     "text": []
    },
    {
     "name": "stdout",
     "output_type": "stream",
     "text": [
      "pred_label 3, label 6\n"
     ]
    },
    {
     "name": "stderr",
     "output_type": "stream",
     "text": []
    },
    {
     "name": "stdout",
     "output_type": "stream",
     "text": [
      "pred_label 3, label 6\n"
     ]
    },
    {
     "name": "stderr",
     "output_type": "stream",
     "text": []
    },
    {
     "name": "stdout",
     "output_type": "stream",
     "text": [
      "pred_label 6, label 8\n"
     ]
    },
    {
     "name": "stderr",
     "output_type": "stream",
     "text": [
      "Model: mvitv2:  15%|█▌        | 2/13 [28:55<2:38:32, 864.77s/it]"
     ]
    },
    {
     "name": "stdout",
     "output_type": "stream",
     "text": [
      "pred_label 6, label 7\n"
     ]
    },
    {
     "name": "stderr",
     "output_type": "stream",
     "text": []
    },
    {
     "name": "stdout",
     "output_type": "stream",
     "text": [
      "pred_label 6, label 0\n"
     ]
    },
    {
     "name": "stderr",
     "output_type": "stream",
     "text": []
    },
    {
     "name": "stdout",
     "output_type": "stream",
     "text": [
      "pred_label 0, label 9\n"
     ]
    },
    {
     "name": "stderr",
     "output_type": "stream",
     "text": []
    },
    {
     "name": "stdout",
     "output_type": "stream",
     "text": [
      "pred_label 0, label 9\n"
     ]
    },
    {
     "name": "stderr",
     "output_type": "stream",
     "text": [
      "Model: mvitv2:  23%|██▎       | 3/13 [44:11<2:28:02, 888.20s/it]"
     ]
    },
    {
     "name": "stdout",
     "output_type": "stream",
     "text": [
      "pred_label 9, label 8\n"
     ]
    },
    {
     "name": "stderr",
     "output_type": "stream",
     "text": []
    },
    {
     "name": "stdout",
     "output_type": "stream",
     "text": [
      "pred_label 9, label 2\n"
     ]
    },
    {
     "name": "stderr",
     "output_type": "stream",
     "text": []
    },
    {
     "name": "stdout",
     "output_type": "stream",
     "text": [
      "pred_label 9, label 7\n"
     ]
    },
    {
     "name": "stderr",
     "output_type": "stream",
     "text": []
    },
    {
     "name": "stdout",
     "output_type": "stream",
     "text": [
      "pred_label 7, label 7\n"
     ]
    },
    {
     "name": "stderr",
     "output_type": "stream",
     "text": [
      "Model: mvitv2:  31%|███       | 4/13 [58:30<2:11:30, 876.69s/it]"
     ]
    },
    {
     "name": "stdout",
     "output_type": "stream",
     "text": [
      "pred_label 7, label 8\n"
     ]
    },
    {
     "name": "stderr",
     "output_type": "stream",
     "text": []
    },
    {
     "name": "stdout",
     "output_type": "stream",
     "text": [
      "pred_label 8, label 5\n"
     ]
    },
    {
     "name": "stderr",
     "output_type": "stream",
     "text": []
    },
    {
     "name": "stdout",
     "output_type": "stream",
     "text": [
      "pred_label 8, label 3\n"
     ]
    },
    {
     "name": "stderr",
     "output_type": "stream",
     "text": []
    },
    {
     "name": "stdout",
     "output_type": "stream",
     "text": [
      "pred_label 8, label 4\n"
     ]
    },
    {
     "name": "stderr",
     "output_type": "stream",
     "text": [
      "Model: mvitv2:  38%|███▊      | 5/13 [1:12:39<1:55:34, 866.80s/it]"
     ]
    },
    {
     "name": "stdout",
     "output_type": "stream",
     "text": [
      "pred_label 8, label 1\n"
     ]
    },
    {
     "name": "stderr",
     "output_type": "stream",
     "text": []
    },
    {
     "name": "stdout",
     "output_type": "stream",
     "text": [
      "pred_label 8, label 2\n"
     ]
    },
    {
     "name": "stderr",
     "output_type": "stream",
     "text": []
    },
    {
     "name": "stdout",
     "output_type": "stream",
     "text": [
      "pred_label 8, label 8\n"
     ]
    },
    {
     "name": "stderr",
     "output_type": "stream",
     "text": []
    },
    {
     "name": "stdout",
     "output_type": "stream",
     "text": [
      "pred_label 8, label 1\n"
     ]
    },
    {
     "name": "stderr",
     "output_type": "stream",
     "text": [
      "Model: mvitv2:  46%|████▌     | 6/13 [1:27:21<1:41:41, 871.71s/it]"
     ]
    },
    {
     "name": "stdout",
     "output_type": "stream",
     "text": [
      "pred_label 8, label 0\n"
     ]
    },
    {
     "name": "stderr",
     "output_type": "stream",
     "text": []
    },
    {
     "name": "stdout",
     "output_type": "stream",
     "text": [
      "pred_label 8, label 5\n"
     ]
    },
    {
     "name": "stderr",
     "output_type": "stream",
     "text": []
    },
    {
     "name": "stdout",
     "output_type": "stream",
     "text": [
      "pred_label 1, label 1\n"
     ]
    },
    {
     "name": "stderr",
     "output_type": "stream",
     "text": []
    },
    {
     "name": "stdout",
     "output_type": "stream",
     "text": [
      "pred_label 1, label 7\n"
     ]
    },
    {
     "name": "stderr",
     "output_type": "stream",
     "text": [
      "Model: mvitv2:  54%|█████▍    | 7/13 [1:44:22<1:32:03, 920.56s/it]"
     ]
    },
    {
     "name": "stdout",
     "output_type": "stream",
     "text": [
      "pred_label 1, label 9\n"
     ]
    },
    {
     "name": "stderr",
     "output_type": "stream",
     "text": []
    },
    {
     "name": "stdout",
     "output_type": "stream",
     "text": [
      "pred_label 7, label 7\n"
     ]
    },
    {
     "name": "stderr",
     "output_type": "stream",
     "text": []
    },
    {
     "name": "stdout",
     "output_type": "stream",
     "text": [
      "pred_label 7, label 2\n"
     ]
    },
    {
     "name": "stderr",
     "output_type": "stream",
     "text": []
    },
    {
     "name": "stdout",
     "output_type": "stream",
     "text": [
      "pred_label 7, label 8\n"
     ]
    },
    {
     "name": "stderr",
     "output_type": "stream",
     "text": [
      "Model: mvitv2:  62%|██████▏   | 8/13 [2:00:03<1:17:16, 927.23s/it]"
     ]
    },
    {
     "name": "stdout",
     "output_type": "stream",
     "text": [
      "pred_label 7, label 4\n"
     ]
    },
    {
     "name": "stderr",
     "output_type": "stream",
     "text": []
    },
    {
     "name": "stdout",
     "output_type": "stream",
     "text": [
      "pred_label 7, label 9\n"
     ]
    },
    {
     "name": "stderr",
     "output_type": "stream",
     "text": []
    },
    {
     "name": "stdout",
     "output_type": "stream",
     "text": [
      "pred_label 9, label 4\n"
     ]
    },
    {
     "name": "stderr",
     "output_type": "stream",
     "text": []
    },
    {
     "name": "stdout",
     "output_type": "stream",
     "text": [
      "pred_label 9, label 9\n"
     ]
    },
    {
     "name": "stderr",
     "output_type": "stream",
     "text": [
      "Model: mvitv2:  69%|██████▉   | 9/13 [2:17:25<1:04:12, 963.17s/it]"
     ]
    },
    {
     "name": "stdout",
     "output_type": "stream",
     "text": [
      "pred_label 9, label 5\n"
     ]
    },
    {
     "name": "stderr",
     "output_type": "stream",
     "text": []
    },
    {
     "name": "stdout",
     "output_type": "stream",
     "text": [
      "pred_label 9, label 2\n"
     ]
    },
    {
     "name": "stderr",
     "output_type": "stream",
     "text": []
    },
    {
     "name": "stdout",
     "output_type": "stream",
     "text": [
      "pred_label 9, label 1\n"
     ]
    },
    {
     "name": "stderr",
     "output_type": "stream",
     "text": []
    },
    {
     "name": "stdout",
     "output_type": "stream",
     "text": [
      "pred_label 9, label 6\n"
     ]
    },
    {
     "name": "stderr",
     "output_type": "stream",
     "text": [
      "Model: mvitv2:  77%|███████▋  | 10/13 [2:31:18<46:08, 922.95s/it] "
     ]
    },
    {
     "name": "stdout",
     "output_type": "stream",
     "text": [
      "pred_label 9, label 0\n"
     ]
    },
    {
     "name": "stderr",
     "output_type": "stream",
     "text": []
    },
    {
     "name": "stdout",
     "output_type": "stream",
     "text": [
      "pred_label 9, label 3\n"
     ]
    },
    {
     "name": "stderr",
     "output_type": "stream",
     "text": []
    },
    {
     "name": "stdout",
     "output_type": "stream",
     "text": [
      "pred_label 9, label 3\n"
     ]
    },
    {
     "name": "stderr",
     "output_type": "stream",
     "text": []
    },
    {
     "name": "stdout",
     "output_type": "stream",
     "text": [
      "pred_label 3, label 5\n"
     ]
    },
    {
     "name": "stderr",
     "output_type": "stream",
     "text": [
      "Model: mvitv2:  85%|████████▍ | 11/13 [2:50:41<33:12, 996.26s/it]"
     ]
    },
    {
     "name": "stdout",
     "output_type": "stream",
     "text": [
      "pred_label 5, label 6\n"
     ]
    },
    {
     "name": "stderr",
     "output_type": "stream",
     "text": []
    },
    {
     "name": "stdout",
     "output_type": "stream",
     "text": [
      "pred_label 5, label 5\n"
     ]
    }
   ],
   "source": [
    "for model_name, model in additional_models.items():\n",
    "    if torch.jit.isinstance(model, torch.jit.ScriptModule):\n",
    "        additional_models[model_name] = TorchScriptModelWrapper(model)\n",
    "\n",
    "    model = additional_models[model_name]\n",
    "    optimizer = optim.Adam(model.parameters(), lr=0.001)\n",
    "    loss_function = nn.CrossEntropyLoss()\n",
    "    model.eval()\n",
    "\n",
    "    val_correct_predictions = 0\n",
    "    val_total_predictions = 0\n",
    "\n",
    "    for epoch in range(10):\n",
    "        with tqdm(enumerate(padded_dataloader_val), total=len(padded_dataloader_val), desc=f\"Model: {model_name}\") as t_outer:\n",
    "            for i, data in t_outer:\n",
    "                inputs, label_data = data\n",
    "                if len(inputs) == 0 or len(label_data) == 0:\n",
    "                    continue\n",
    "\n",
    "                labels = torch.tensor([val_label_mapping[label] for label in label_data], dtype=torch.long)\n",
    "\n",
    "                batch_corr = 0.\n",
    "                batch_total = 0.\n",
    "\n",
    "                with tqdm(enumerate(inputs), total=len(inputs), leave=False, desc=\"Processing inputs\") as t_inner:\n",
    "                    for e, inp in t_inner:\n",
    "                        target = labels[e]\n",
    "                        target_probs = torch.zeros(1, 10)\n",
    "                        target_probs[0][target] = 1\n",
    "                        j = 0\n",
    "                        inp_pred = []\n",
    "                        num_splits = inp.shape[0] // 16\n",
    "                        while j + num_splits <= inp.shape[0]:\n",
    "                            input_splits = inp[j:j+num_splits]\n",
    "                            input_splits = torch.reshape(input_splits, (1, 3, -1, 64, 64))\n",
    "                            input_splits = np.stack(input_splits[:num_splits], axis=1)[None][None]\n",
    "                            input_splits = torch.from_numpy(input_splits)\n",
    "                            \n",
    "                            optimizer.zero_grad()\n",
    "\n",
    "                            outputs = model(input_splits)\n",
    "\n",
    "                            # print(outputs.shape, target_probs.shape)\n",
    "                            loss = loss_function(outputs, target_probs)\n",
    "                            loss.backward()\n",
    "\n",
    "                            optimizer.step()\n",
    "\n",
    "                            pred_class = torch.argmax(outputs, dim=1)\n",
    "\n",
    "                            inp_pred.append(pred_class.item())\n",
    "                            j += 1\n",
    "\n",
    "                        pred_counter = Counter(inp_pred)\n",
    "                        pred_label = pred_counter.most_common(1)[0][0]\n",
    "\n",
    "                        print(f'pred_label {pred_label}, label {target}')\n",
    "\n",
    "                        batch_total += 1\n",
    "                        batch_corr += (pred_label == labels[e]).sum().item()\n",
    "\n",
    "                        t_inner.set_postfix(batch_accuracy=batch_corr/batch_total)\n",
    "\n",
    "                val_correct_predictions += batch_corr\n",
    "                val_total_predictions += batch_total\n",
    "\n",
    "            val_accuracy = val_correct_predictions / val_total_predictions\n",
    "            t_outer.set_postfix(model_accuracy=val_accuracy, epoch=epoch)\n",
    "\n",
    "            checkpoint_path = os.path.join(checkpoint_dir, f\"{model_name}_epoch_{epoch}.pt\")\n",
    "            torch.save({\n",
    "                'epoch': epoch,\n",
    "                'model_state_dict': model.state_dict(),\n",
    "                'optimizer_state_dict': optimizer.state_dict(),\n",
    "                'loss': loss,\n",
    "                'val_accuracy': val_accuracy\n",
    "            }, checkpoint_path)\n",
    "\n",
    "\n",
    "            results[model_name] = val_accuracy"
   ]
  }
 ],
 "metadata": {
  "kernelspec": {
   "display_name": "torch-cuda",
   "language": "python",
   "name": "python3"
  },
  "language_info": {
   "codemirror_mode": {
    "name": "ipython",
    "version": 3
   },
   "file_extension": ".py",
   "mimetype": "text/x-python",
   "name": "python",
   "nbconvert_exporter": "python",
   "pygments_lexer": "ipython3",
   "version": "3.10.13"
  }
 },
 "nbformat": 4,
 "nbformat_minor": 2
}
