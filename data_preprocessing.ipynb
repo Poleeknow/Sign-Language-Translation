{
 "cells": [
  {
   "cell_type": "markdown",
   "metadata": {},
   "source": []
  },
  {
   "cell_type": "code",
   "execution_count": 94,
   "metadata": {},
   "outputs": [],
   "source": [
    "import pandas as pd\n",
    "import numpy as np\n",
    "import cv2"
   ]
  },
  {
   "cell_type": "code",
   "execution_count": 101,
   "metadata": {},
   "outputs": [
    {
     "data": {
      "text/html": [
       "<div>\n",
       "<style scoped>\n",
       "    .dataframe tbody tr th:only-of-type {\n",
       "        vertical-align: middle;\n",
       "    }\n",
       "\n",
       "    .dataframe tbody tr th {\n",
       "        vertical-align: top;\n",
       "    }\n",
       "\n",
       "    .dataframe thead th {\n",
       "        text-align: right;\n",
       "    }\n",
       "</style>\n",
       "<table border=\"1\" class=\"dataframe\">\n",
       "  <thead>\n",
       "    <tr style=\"text-align: right;\">\n",
       "      <th></th>\n",
       "      <th>attachment_id</th>\n",
       "      <th>text</th>\n",
       "      <th>user_id</th>\n",
       "      <th>height</th>\n",
       "      <th>width</th>\n",
       "      <th>length</th>\n",
       "      <th>train</th>\n",
       "      <th>begin</th>\n",
       "      <th>end</th>\n",
       "    </tr>\n",
       "  </thead>\n",
       "  <tbody>\n",
       "    <tr>\n",
       "      <th>0</th>\n",
       "      <td>44e8d2a0-7e01-450b-90b0-beb7400d2c1e</td>\n",
       "      <td>Ё</td>\n",
       "      <td>185bd3a81d9d618518d10abebf0d17a8</td>\n",
       "      <td>1920</td>\n",
       "      <td>1080</td>\n",
       "      <td>156.0</td>\n",
       "      <td>True</td>\n",
       "      <td>36</td>\n",
       "      <td>112</td>\n",
       "    </tr>\n",
       "    <tr>\n",
       "      <th>1</th>\n",
       "      <td>df5b08f0-41d1-4572-889c-8b893e71069b</td>\n",
       "      <td>А</td>\n",
       "      <td>185bd3a81d9d618518d10abebf0d17a8</td>\n",
       "      <td>1920</td>\n",
       "      <td>1080</td>\n",
       "      <td>150.0</td>\n",
       "      <td>True</td>\n",
       "      <td>36</td>\n",
       "      <td>76</td>\n",
       "    </tr>\n",
       "    <tr>\n",
       "      <th>2</th>\n",
       "      <td>17f53df4-c467-4aff-9f48-20687b63d49a</td>\n",
       "      <td>Р</td>\n",
       "      <td>185bd3a81d9d618518d10abebf0d17a8</td>\n",
       "      <td>1920</td>\n",
       "      <td>1080</td>\n",
       "      <td>133.0</td>\n",
       "      <td>True</td>\n",
       "      <td>40</td>\n",
       "      <td>97</td>\n",
       "    </tr>\n",
       "    <tr>\n",
       "      <th>3</th>\n",
       "      <td>e3add916-c708-4339-ad98-7e2740be29e9</td>\n",
       "      <td>Е</td>\n",
       "      <td>185bd3a81d9d618518d10abebf0d17a8</td>\n",
       "      <td>1920</td>\n",
       "      <td>1080</td>\n",
       "      <td>144.0</td>\n",
       "      <td>True</td>\n",
       "      <td>43</td>\n",
       "      <td>107</td>\n",
       "    </tr>\n",
       "    <tr>\n",
       "      <th>4</th>\n",
       "      <td>bd7272ed-1850-48f1-a2a8-c8fed523dc37</td>\n",
       "      <td>Ч</td>\n",
       "      <td>185bd3a81d9d618518d10abebf0d17a8</td>\n",
       "      <td>1920</td>\n",
       "      <td>1080</td>\n",
       "      <td>96.0</td>\n",
       "      <td>True</td>\n",
       "      <td>20</td>\n",
       "      <td>70</td>\n",
       "    </tr>\n",
       "  </tbody>\n",
       "</table>\n",
       "</div>"
      ],
      "text/plain": [
       "                          attachment_id text  \\\n",
       "0  44e8d2a0-7e01-450b-90b0-beb7400d2c1e    Ё   \n",
       "1  df5b08f0-41d1-4572-889c-8b893e71069b    А   \n",
       "2  17f53df4-c467-4aff-9f48-20687b63d49a    Р   \n",
       "3  e3add916-c708-4339-ad98-7e2740be29e9    Е   \n",
       "4  bd7272ed-1850-48f1-a2a8-c8fed523dc37    Ч   \n",
       "\n",
       "                            user_id  height  width  length  train  begin  end  \n",
       "0  185bd3a81d9d618518d10abebf0d17a8    1920   1080   156.0   True     36  112  \n",
       "1  185bd3a81d9d618518d10abebf0d17a8    1920   1080   150.0   True     36   76  \n",
       "2  185bd3a81d9d618518d10abebf0d17a8    1920   1080   133.0   True     40   97  \n",
       "3  185bd3a81d9d618518d10abebf0d17a8    1920   1080   144.0   True     43  107  \n",
       "4  185bd3a81d9d618518d10abebf0d17a8    1920   1080    96.0   True     20   70  "
      ]
     },
     "execution_count": 101,
     "metadata": {},
     "output_type": "execute_result"
    }
   ],
   "source": [
    "annot = pd.read_csv(\"data/annotations.csv\", sep='\\t')\n",
    "annot.head(5)"
   ]
  },
  {
   "cell_type": "code",
   "execution_count": 96,
   "metadata": {},
   "outputs": [
    {
     "name": "stdout",
     "output_type": "stream",
     "text": [
      "<class 'pandas.core.frame.DataFrame'>\n",
      "RangeIndex: 20400 entries, 0 to 20399\n",
      "Data columns (total 9 columns):\n",
      " #   Column         Non-Null Count  Dtype  \n",
      "---  ------         --------------  -----  \n",
      " 0   attachment_id  20400 non-null  object \n",
      " 1   text           20400 non-null  object \n",
      " 2   user_id        20400 non-null  object \n",
      " 3   height         20400 non-null  int64  \n",
      " 4   width          20400 non-null  int64  \n",
      " 5   length         20400 non-null  float64\n",
      " 6   train          20400 non-null  bool   \n",
      " 7   begin          20400 non-null  int64  \n",
      " 8   end            20400 non-null  int64  \n",
      "dtypes: bool(1), float64(1), int64(4), object(3)\n",
      "memory usage: 1.3+ MB\n"
     ]
    }
   ],
   "source": [
    "annot.info()"
   ]
  },
  {
   "cell_type": "code",
   "execution_count": 97,
   "metadata": {},
   "outputs": [],
   "source": [
    "def crop_frame(frame):\n",
    "    height, width = frame.shape[:2]\n",
    "    th_dim = frame.shape[2]\n",
    "    max_dim = max(height, width)\n",
    "    dif = abs(height-width)\n",
    "\n",
    "    first_side = dif // 2\n",
    "    second_side = dif - first_side\n",
    "    \n",
    "    \n",
    "    if width == max_dim:\n",
    "        f_array = np.zeros(shape=(first_side, max_dim, th_dim))\n",
    "        s_array = np.zeros(shape=(second_side, max_dim, th_dim))\n",
    "        frame = np.concatenate((f_array, np.array(frame), s_array), axis=0)\n",
    "    else:\n",
    "        f_array = np.zeros(shape=(max_dim, first_side, th_dim))\n",
    "        s_array = np.zeros(shape=(max_dim, second_side, th_dim))\n",
    "        frame = np.concatenate((f_array, np.array(frame), s_array), axis=1)\n",
    "\n",
    "    return frame"
   ]
  },
  {
   "cell_type": "code",
   "execution_count": 98,
   "metadata": {},
   "outputs": [],
   "source": [
    "def load_video(path, img_size, i):\n",
    "    cap = cv2.VideoCapture(path)\n",
    "    frames = []\n",
    "    while True:\n",
    "        ret, frame = cap.read()\n",
    "        if not ret:\n",
    "            break\n",
    "        else:\n",
    "            frame = crop_frame(frame)\n",
    "            frame = cv2.resize(frame, (img_size, img_size))\n",
    "            frame = frame[:, :, [2, 1, 0]]\n",
    "            frames.append(frame)\n",
    "            \n",
    "    print(f\"We are done on the image number {i}\")\n",
    "    return frames"
   ]
  },
  {
   "cell_type": "code",
   "execution_count": 99,
   "metadata": {},
   "outputs": [
    {
     "name": "stdout",
     "output_type": "stream",
     "text": [
      "We are on the image number 0\n"
     ]
    },
    {
     "name": "stderr",
     "output_type": "stream",
     "text": [
      "C:\\Users\\84907\\AppData\\Local\\Temp\\ipykernel_29852\\4213435768.py:3: SettingWithCopyWarning: \n",
      "A value is trying to be set on a copy of a slice from a DataFrame\n",
      "\n",
      "See the caveats in the documentation: https://pandas.pydata.org/pandas-docs/stable/user_guide/indexing.html#returning-a-view-versus-a-copy\n",
      "  annot['attachment_id'][i] = load_video(full_path, 300, i)\n"
     ]
    }
   ],
   "source": [
    "for i, path in enumerate(annot['attachment_id'][:1]):\n",
    "    full_path = \"data/slovo/train/\" + str(path) + \".mp4\"\n",
    "    annot['attachment_id'][i] = load_video(full_path, 300, i)"
   ]
  },
  {
   "cell_type": "code",
   "execution_count": 100,
   "metadata": {},
   "outputs": [
    {
     "data": {
      "text/plain": [
       "(300, 300, 3)"
      ]
     },
     "execution_count": 100,
     "metadata": {},
     "output_type": "execute_result"
    }
   ],
   "source": [
    "annot['attachment_id'][0][0].shape"
   ]
  }
 ],
 "metadata": {
  "kernelspec": {
   "display_name": "Python 3",
   "language": "python",
   "name": "python3"
  },
  "language_info": {
   "codemirror_mode": {
    "name": "ipython",
    "version": 3
   },
   "file_extension": ".py",
   "mimetype": "text/x-python",
   "name": "python",
   "nbconvert_exporter": "python",
   "pygments_lexer": "ipython3",
   "version": "3.10.11"
  },
  "orig_nbformat": 4
 },
 "nbformat": 4,
 "nbformat_minor": 2
}
